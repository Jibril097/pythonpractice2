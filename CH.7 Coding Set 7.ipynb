{
 "cells": [
  {
   "cell_type": "markdown",
   "id": "4fc89f5e",
   "metadata": {},
   "source": [
    "# CH.7 Coding Set 7"
   ]
  },
  {
   "cell_type": "markdown",
   "id": "dddde138",
   "metadata": {},
   "source": [
    "## Alogorithm Workbench exercises"
   ]
  },
  {
   "cell_type": "markdown",
   "id": "601fd4bb",
   "metadata": {},
   "source": [
    "### Exercise 7"
   ]
  },
  {
   "cell_type": "code",
   "execution_count": 4,
   "id": "b9f65a30",
   "metadata": {},
   "outputs": [
    {
     "name": "stdout",
     "output_type": "stream",
     "text": [
      "[1, 2, 1, 2]\n"
     ]
    }
   ],
   "source": [
    "#What will list1 and list2 contain after the following statements are executed?\n",
    "#I believe it will add the two list to get a value of 9\n",
    "list1 = [1, 2] * 2\n",
    "list2 = [3]\n",
    "list2 += list1\n",
    "\n",
    "print(list1)"
   ]
  },
  {
   "cell_type": "code",
   "execution_count": null,
   "id": "ec0dbe8b",
   "metadata": {},
   "outputs": [],
   "source": []
  }
 ],
 "metadata": {
  "kernelspec": {
   "display_name": "Python 3 (ipykernel)",
   "language": "python",
   "name": "python3"
  },
  "language_info": {
   "codemirror_mode": {
    "name": "ipython",
    "version": 3
   },
   "file_extension": ".py",
   "mimetype": "text/x-python",
   "name": "python",
   "nbconvert_exporter": "python",
   "pygments_lexer": "ipython3",
   "version": "3.11.4"
  }
 },
 "nbformat": 4,
 "nbformat_minor": 5
}
