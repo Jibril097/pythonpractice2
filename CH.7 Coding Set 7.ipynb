{
 "cells": [
  {
   "cell_type": "markdown",
   "id": "119fa9a8",
   "metadata": {},
   "source": [
    "# CH.7 Coding Set 7"
   ]
  },
  {
   "cell_type": "markdown",
   "id": "02a4827a",
   "metadata": {},
   "source": [
    "## Alogorithm Workbench exercises"
   ]
  },
  {
   "cell_type": "markdown",
   "id": "1f600cbf",
   "metadata": {},
   "source": [
    "### Exercise 7"
   ]
  },
  {
   "cell_type": "code",
   "execution_count": 4,
   "id": "43cbdbc1",
   "metadata": {},
   "outputs": [
    {
     "name": "stdout",
     "output_type": "stream",
     "text": [
      "[1, 2, 1, 2]\n"
     ]
    }
   ],
   "source": [
    "#What will list1 and list2 contain after the following statements are executed?\n",
    "#I believe it will add the two list to get a value of 9\n",
    "list1 = [1, 2] * 2\n",
    "list2 = [3]\n",
    "list2 += list1\n",
    "\n",
    "print(list1)"
   ]
  },
  {
   "cell_type": "markdown",
   "id": "b0399f6c",
   "metadata": {},
   "source": [
    "### Exercise 1"
   ]
  },
  {
   "cell_type": "code",
   "execution_count": 7,
   "id": "36a80359",
   "metadata": {},
   "outputs": [
    {
     "name": "stdout",
     "output_type": "stream",
     "text": [
      "[0, 1, 2, 3, 4, 5, 6, 7, 8, 9, 10, 11, 12, 13, 14, 15, 16, 17, 18, 19, 20, 21, 22, 23, 24, 25, 26, 27, 28, 29, 30, 31, 32, 33, 34, 35, 36, 37, 38, 39, 40, 41, 42, 43, 44, 45, 46, 47, 48, 49, 50, 51, 52, 53, 54, 55, 56, 57, 58, 59, 60, 61, 62, 63, 64, 65, 66, 67, 68, 69, 70, 71, 72, 73, 74, 75, 76, 77, 78, 79, 80, 81, 82, 83, 84, 85, 86, 87, 88, 89, 90, 91, 92, 93, 94, 95, 96, 97, 98, 99, 100]\n"
     ]
    }
   ],
   "source": [
    "#Write a statement that uses the list and range functions to create a list of the numbers\n",
    "#from 1 to 100.\n",
    "numbers=list(range(101))\n",
    "print(numbers)"
   ]
  },
  {
   "cell_type": "markdown",
   "id": "6f926dd2",
   "metadata": {},
   "source": [
    "# Programming Exercises"
   ]
  },
  {
   "cell_type": "markdown",
   "id": "0e5d52bc",
   "metadata": {},
   "source": [
    "### Lottery Number Generator"
   ]
  },
  {
   "cell_type": "code",
   "execution_count": 13,
   "id": "553da2a5",
   "metadata": {},
   "outputs": [
    {
     "ename": "IndentationError",
     "evalue": "unexpected indent (1068801415.py, line 14)",
     "output_type": "error",
     "traceback": [
      "\u001b[1;36m  Cell \u001b[1;32mIn[13], line 14\u001b[1;36m\u001b[0m\n\u001b[1;33m    for number in range(1, 8):\u001b[0m\n\u001b[1;37m    ^\u001b[0m\n\u001b[1;31mIndentationError\u001b[0m\u001b[1;31m:\u001b[0m unexpected indent\n"
     ]
    }
   ],
   "source": [
    "import random\n",
    "\n",
    "def main():\n",
    "    print(\"Choose seven numbers between 0 and 9: \")\n",
    "    \n",
    "    user_choices()\n",
    "    \n",
    "    random_number_list = random_generator()\n",
    "    \n",
    "    display_numbers(random_number_list)\n",
    "    \n",
    "def random_generator():\n",
    "     random_numbers = []\n",
    "        for number in range(1, 8):\n",
    "            number = random.randint(0, 9)\n",
    "            random_numbers.append(number)\n",
    "            \n",
    "            return random_numbers\n",
    "def display_numbers(random_numbers):\n",
    "     index = 1\n",
    "        for random_number in random_numbers:\n",
    "             print(f\"The number {index} is {random_number}\")\n",
    "                index += 1\n",
    "                \n",
    "def user_choices():\n",
    "    for i in range(1, 8)\n",
    "        number = int(input(f\"Insert choice number {i}: \"))\n",
    "        print(f\"Number {i}: {number}\")\n",
    "        \n",
    "        print(\"*\"*13)\n",
    "        \n",
    "main()"
   ]
  },
  {
   "cell_type": "code",
   "execution_count": null,
   "id": "a34d0601",
   "metadata": {},
   "outputs": [],
   "source": []
  },
  {
   "cell_type": "code",
   "execution_count": null,
   "id": "a87c384f",
   "metadata": {},
   "outputs": [],
   "source": []
  }
 ],
 "metadata": {
  "kernelspec": {
   "display_name": "Python 3 (ipykernel)",
   "language": "python",
   "name": "python3"
  },
  "language_info": {
   "codemirror_mode": {
    "name": "ipython",
    "version": 3
   },
   "file_extension": ".py",
   "mimetype": "text/x-python",
   "name": "python",
   "nbconvert_exporter": "python",
   "pygments_lexer": "ipython3",
   "version": "3.11.4"
  }
 },
 "nbformat": 4,
 "nbformat_minor": 5
}
