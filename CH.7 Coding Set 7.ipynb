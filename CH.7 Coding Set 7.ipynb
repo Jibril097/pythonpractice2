{
 "cells": [
  {
   "cell_type": "markdown",
   "id": "d42c49e2",
   "metadata": {},
   "source": [
    "# CH.7 Coding Set 7"
   ]
  },
  {
   "cell_type": "markdown",
   "id": "6cb42435",
   "metadata": {},
   "source": [
    "## Alogorithm Workbench exercises"
   ]
  },
  {
   "cell_type": "markdown",
   "id": "7f06ebad",
   "metadata": {},
   "source": [
    "### Exercise 7"
   ]
  },
  {
   "cell_type": "code",
   "execution_count": 4,
   "id": "b3750f1e",
   "metadata": {},
   "outputs": [
    {
     "name": "stdout",
     "output_type": "stream",
     "text": [
      "[1, 2, 1, 2]\n"
     ]
    }
   ],
   "source": [
    "#What will list1 and list2 contain after the following statements are executed?\n",
    "#I believe it will add the two list to get a value of 9\n",
    "list1 = [1, 2] * 2\n",
    "list2 = [3]\n",
    "list2 += list1\n",
    "\n",
    "print(list1)"
   ]
  },
  {
   "cell_type": "markdown",
   "id": "8f868b28",
   "metadata": {},
   "source": [
    "### Exercise 1"
   ]
  },
  {
   "cell_type": "code",
   "execution_count": 7,
   "id": "7a68d2b3",
   "metadata": {},
   "outputs": [
    {
     "name": "stdout",
     "output_type": "stream",
     "text": [
      "[0, 1, 2, 3, 4, 5, 6, 7, 8, 9, 10, 11, 12, 13, 14, 15, 16, 17, 18, 19, 20, 21, 22, 23, 24, 25, 26, 27, 28, 29, 30, 31, 32, 33, 34, 35, 36, 37, 38, 39, 40, 41, 42, 43, 44, 45, 46, 47, 48, 49, 50, 51, 52, 53, 54, 55, 56, 57, 58, 59, 60, 61, 62, 63, 64, 65, 66, 67, 68, 69, 70, 71, 72, 73, 74, 75, 76, 77, 78, 79, 80, 81, 82, 83, 84, 85, 86, 87, 88, 89, 90, 91, 92, 93, 94, 95, 96, 97, 98, 99, 100]\n"
     ]
    }
   ],
   "source": [
    "#Write a statement that uses the list and range functions to create a list of the numbers\n",
    "#from 1 to 100.\n",
    "numbers=list(range(101))\n",
    "print(numbers)"
   ]
  },
  {
   "cell_type": "markdown",
   "id": "2a5e6c7f",
   "metadata": {},
   "source": [
    "# Programming Exercises"
   ]
  },
  {
   "cell_type": "markdown",
   "id": "84c8f5f7",
   "metadata": {},
   "source": [
    "### Lottery Number Generator"
   ]
  },
  {
   "cell_type": "code",
   "execution_count": null,
   "id": "e386aaa2",
   "metadata": {},
   "outputs": [],
   "source": [
    "import random\n",
    "\n",
    "def main():"
   ]
  }
 ],
 "metadata": {
  "kernelspec": {
   "display_name": "Python 3 (ipykernel)",
   "language": "python",
   "name": "python3"
  },
  "language_info": {
   "codemirror_mode": {
    "name": "ipython",
    "version": 3
   },
   "file_extension": ".py",
   "mimetype": "text/x-python",
   "name": "python",
   "nbconvert_exporter": "python",
   "pygments_lexer": "ipython3",
   "version": "3.11.4"
  }
 },
 "nbformat": 4,
 "nbformat_minor": 5
}
