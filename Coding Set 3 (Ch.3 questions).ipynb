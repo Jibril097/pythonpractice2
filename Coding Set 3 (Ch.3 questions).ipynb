{
 "cells": [
  {
   "cell_type": "markdown",
   "id": "8c803c32",
   "metadata": {},
   "source": [
    "# Coding Set 3 (Ch.3 Questions)"
   ]
  },
  {
   "cell_type": "markdown",
   "id": "609ad6f8",
   "metadata": {},
   "source": [
    "## Alogorithm Workbench"
   ]
  },
  {
   "cell_type": "markdown",
   "id": "8a83f2db",
   "metadata": {},
   "source": [
    "## Question 6"
   ]
  },
  {
   "cell_type": "code",
   "execution_count": null,
   "id": "48460ef8",
   "metadata": {},
   "outputs": [],
   "source": [
    "x+=1\n",
    "x*=2\n",
    "x/=10"
   ]
  }
 ],
 "metadata": {
  "kernelspec": {
   "display_name": "Python 3 (ipykernel)",
   "language": "python",
   "name": "python3"
  },
  "language_info": {
   "codemirror_mode": {
    "name": "ipython",
    "version": 3
   },
   "file_extension": ".py",
   "mimetype": "text/x-python",
   "name": "python",
   "nbconvert_exporter": "python",
   "pygments_lexer": "ipython3",
   "version": "3.11.4"
  }
 },
 "nbformat": 4,
 "nbformat_minor": 5
}
