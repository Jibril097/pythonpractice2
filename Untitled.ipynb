{
 "cells": [
  {
   "cell_type": "code",
   "execution_count": 2,
   "id": "ef490193",
   "metadata": {},
   "outputs": [
    {
     "name": "stdout",
     "output_type": "stream",
     "text": [
      "Hello world\n",
      "Hello world\n",
      "Hello world\n",
      "Hello world\n",
      "Hello world\n"
     ]
    }
   ],
   "source": [
    "# This program demonstrates how the range\n",
    " # function can be used with a for loop.\n",
    "\n",
    " # Print a message five times.\n",
    "for x in range(5):\n",
    "    print('Hello world')"
   ]
  },
  {
   "cell_type": "code",
   "execution_count": 3,
   "id": "108036b8",
   "metadata": {},
   "outputs": [
    {
     "name": "stdout",
     "output_type": "stream",
     "text": [
      "jibril\n",
      "jibril\n",
      "jibril\n",
      "jibril\n",
      "jibril\n",
      "jibril\n",
      "jibril\n",
      "jibril\n",
      "jibril\n",
      "jibril\n"
     ]
    }
   ],
   "source": [
    "for y in range(10):\n",
    "    print(\"jibril\")"
   ]
  },
  {
   "cell_type": "code",
   "execution_count": 10,
   "id": "8b53af2e",
   "metadata": {},
   "outputs": [
    {
     "name": "stdout",
     "output_type": "stream",
     "text": [
      "1 \t 1\n",
      "2 \t 4\n",
      "3 \t 9\n",
      "4 \t 16\n",
      "5 \t 25\n",
      "6 \t 36\n",
      "7 \t 49\n",
      "8 \t 64\n",
      "9 \t 81\n",
      "10 \t 100\n"
     ]
    }
   ],
   "source": [
    "for number in range(1, 11):\n",
    " square = number**2\n",
    " print(number, '\\t', square)"
   ]
  },
  {
   "cell_type": "code",
   "execution_count": 11,
   "id": "35a61ca7",
   "metadata": {},
   "outputs": [
    {
     "name": "stdout",
     "output_type": "stream",
     "text": [
      "1 \t 1\n",
      "2 \t 4\n",
      "3 \t 9\n",
      "4 \t 16\n",
      "5 \t 25\n",
      "6 \t 36\n",
      "7 \t 49\n",
      "8 \t 64\n",
      "9 \t 81\n",
      "10 \t 100\n",
      "11 \t 121\n",
      "12 \t 144\n",
      "13 \t 169\n",
      "14 \t 196\n",
      "15 \t 225\n",
      "16 \t 256\n",
      "17 \t 289\n",
      "18 \t 324\n",
      "19 \t 361\n"
     ]
    }
   ],
   "source": [
    "for number in range(1,20):\n",
    "    square = number**2\n",
    "    print(number,\"\\t\", square)"
   ]
  },
  {
   "cell_type": "code",
   "execution_count": 16,
   "id": "bc68bc5a",
   "metadata": {},
   "outputs": [
    {
     "ename": "IndentationError",
     "evalue": "unexpected indent (3028794976.py, line 7)",
     "output_type": "error",
     "traceback": [
      "\u001b[1;36m  Cell \u001b[1;32mIn[16], line 7\u001b[1;36m\u001b[0m\n\u001b[1;33m    print(kph, '\\t', format(mph, '.1f'))\u001b[0m\n\u001b[1;37m    ^\u001b[0m\n\u001b[1;31mIndentationError\u001b[0m\u001b[1;31m:\u001b[0m unexpected indent\n"
     ]
    }
   ],
   "source": [
    "print('KPH\\tMPH')\n",
    "print('--------------')\n",
    "\n",
    " # Print the speeds.\n",
    "for kph in range(START_SPEED, END_SPEED, INCREMENT):\n",
    "     mph = kph * CONVERSION_FACTOR\n",
    "         print(kph, '\\t', format(mph, '.1f'))"
   ]
  },
  {
   "cell_type": "code",
   "execution_count": 18,
   "id": "5ba9f8cb",
   "metadata": {},
   "outputs": [
    {
     "name": "stdout",
     "output_type": "stream",
     "text": [
      "This program displays a list of numbers\n",
      "and their squares.\n",
      "Enter the starting number: 5\n",
      "How high should I go? 10\n",
      "\n",
      "Number\tSquare\n",
      "--------------\n",
      "10 \t 100\n"
     ]
    }
   ],
   "source": [
    "print('This program displays a list of numbers')\n",
    "print('and their squares.') \n",
    "start = int(input('Enter the starting number: '))\n",
    "end = int(input('How high should I go? '))\n",
    "print()\n",
    "print('Number\\tSquare')\n",
    "print('--------------')\n",
    "for number in range(start, end + 1):\n",
    "    square = number**2\n",
    "print(number, '\\t', square)"
   ]
  },
  {
   "cell_type": "code",
   "execution_count": 21,
   "id": "bb62cc55",
   "metadata": {},
   "outputs": [],
   "source": [
    "x = x + 4\n",
    "y+=5"
   ]
  },
  {
   "cell_type": "code",
   "execution_count": 24,
   "id": "8af20076",
   "metadata": {},
   "outputs": [
    {
     "name": "stdout",
     "output_type": "stream",
     "text": [
      "Enter a test score: 100\n",
      "Enter the correct score: 50\n"
     ]
    }
   ],
   "source": [
    "score = int(input('Enter a test score: '))\n",
    "while score < 0:\n",
    "    print('ERROR: The score cannot be negative.')\n",
    "score = int(input('Enter the correct score: '))"
   ]
  },
  {
   "cell_type": "code",
   "execution_count": 25,
   "id": "e67d1239",
   "metadata": {},
   "outputs": [
    {
     "name": "stdout",
     "output_type": "stream",
     "text": [
      "******"
     ]
    }
   ],
   "source": [
    "for col in range(6):\n",
    "    print('*',end='')"
   ]
  },
  {
   "cell_type": "code",
   "execution_count": null,
   "id": "4ec96706",
   "metadata": {},
   "outputs": [],
   "source": []
  }
 ],
 "metadata": {
  "kernelspec": {
   "display_name": "Python 3 (ipykernel)",
   "language": "python",
   "name": "python3"
  },
  "language_info": {
   "codemirror_mode": {
    "name": "ipython",
    "version": 3
   },
   "file_extension": ".py",
   "mimetype": "text/x-python",
   "name": "python",
   "nbconvert_exporter": "python",
   "pygments_lexer": "ipython3",
   "version": "3.11.4"
  }
 },
 "nbformat": 4,
 "nbformat_minor": 5
}
