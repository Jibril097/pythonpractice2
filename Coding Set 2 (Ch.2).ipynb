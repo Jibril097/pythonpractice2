{
 "cells": [
  {
   "cell_type": "markdown",
   "id": "e4945abe",
   "metadata": {},
   "source": [
    "# Coding Set 2 (Ch.2)"
   ]
  },
  {
   "cell_type": "markdown",
   "id": "1f753697",
   "metadata": {},
   "source": [
    "## Alogorithm Workbench Question"
   ]
  },
  {
   "cell_type": "markdown",
   "id": "5cd799e4",
   "metadata": {},
   "source": [
    "### Question 12"
   ]
  },
  {
   "cell_type": "code",
   "execution_count": 1,
   "id": "c5a35a65",
   "metadata": {},
   "outputs": [
    {
     "name": "stdout",
     "output_type": "stream",
     "text": [
      "X\tO\tX\n",
      "O\tX\tO\n",
      "X\tO\tX\n",
      "\n"
     ]
    }
   ],
   "source": [
    "#What will the following statement display?\n",
    "#I think the statement will print side by side\n",
    "print('X\\tO\\tX\\nO\\tX\\tO\\nX\\tO\\tX\\n')"
   ]
  },
  {
   "cell_type": "code",
   "execution_count": null,
   "id": "1bb1f7ff",
   "metadata": {},
   "outputs": [],
   "source": []
  }
 ],
 "metadata": {
  "kernelspec": {
   "display_name": "Python 3 (ipykernel)",
   "language": "python",
   "name": "python3"
  },
  "language_info": {
   "codemirror_mode": {
    "name": "ipython",
    "version": 3
   },
   "file_extension": ".py",
   "mimetype": "text/x-python",
   "name": "python",
   "nbconvert_exporter": "python",
   "pygments_lexer": "ipython3",
   "version": "3.11.4"
  }
 },
 "nbformat": 4,
 "nbformat_minor": 5
}
