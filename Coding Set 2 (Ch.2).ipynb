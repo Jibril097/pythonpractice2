{
 "cells": [
  {
   "cell_type": "markdown",
   "id": "8ecf33a7",
   "metadata": {},
   "source": [
    "# Coding Set 2 (Ch.2)"
   ]
  },
  {
   "cell_type": "markdown",
   "id": "7ed2cf0a",
   "metadata": {},
   "source": [
    "## Alogorithm Workbench Question"
   ]
  },
  {
   "cell_type": "markdown",
   "id": "70661331",
   "metadata": {},
   "source": [
    "### Question 12"
   ]
  },
  {
   "cell_type": "code",
   "execution_count": 1,
   "id": "4163cbe0",
   "metadata": {},
   "outputs": [
    {
     "name": "stdout",
     "output_type": "stream",
     "text": [
      "X\tO\tX\n",
      "O\tX\tO\n",
      "X\tO\tX\n",
      "\n"
     ]
    }
   ],
   "source": [
    "#What will the following statement display?\n",
    "#I think the statement will print side by side\n",
    "print('X\\tO\\tX\\nO\\tX\\tO\\nX\\tO\\tX\\n')"
   ]
  },
  {
   "cell_type": "markdown",
   "id": "f04e345c",
   "metadata": {},
   "source": [
    "## Programming exercise "
   ]
  },
  {
   "cell_type": "markdown",
   "id": "5a7ad7c9",
   "metadata": {},
   "source": [
    "### Exercise 1"
   ]
  },
  {
   "cell_type": "code",
   "execution_count": 2,
   "id": "165c3fd8",
   "metadata": {},
   "outputs": [
    {
     "name": "stdout",
     "output_type": "stream",
     "text": [
      "Jibril Richardson\n",
      "320 parkwest court,Lansing MI,48917\n",
      "Phone number:5175153237\n",
      "College Major: Cybersecurity\n"
     ]
    }
   ],
   "source": [
    "#Write a program that displays the following information:\n",
    "# Your name\n",
    "#Your address, with city, state, and ZIP\n",
    "#Your telephone number\n",
    "#Your college major\n",
    "print('Jibril Richardson')\n",
    "print ('320 parkwest court,Lansing MI,48917')\n",
    "print('Phone number:5175153237')\n",
    "print('College Major: Cybersecurity')"
   ]
  },
  {
   "cell_type": "code",
   "execution_count": null,
   "id": "ee56a768",
   "metadata": {},
   "outputs": [],
   "source": [
    "R=float(input('enter the length of row, in feet:'))\n",
    "E=float(input('enter amount of the space used by an end-post assembly:'))\n",
    "S=float(input('enter amount of space between vines:'))\n",
    "\n",
    "V=(R-(2))"
   ]
  }
 ],
 "metadata": {
  "kernelspec": {
   "display_name": "Python 3 (ipykernel)",
   "language": "python",
   "name": "python3"
  },
  "language_info": {
   "codemirror_mode": {
    "name": "ipython",
    "version": 3
   },
   "file_extension": ".py",
   "mimetype": "text/x-python",
   "name": "python",
   "nbconvert_exporter": "python",
   "pygments_lexer": "ipython3",
   "version": "3.11.4"
  }
 },
 "nbformat": 4,
 "nbformat_minor": 5
}
