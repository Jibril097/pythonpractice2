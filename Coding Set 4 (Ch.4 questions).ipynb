{
 "cells": [
  {
   "cell_type": "markdown",
   "id": "f2cc4ce8",
   "metadata": {},
   "source": [
    "# Coding Set 4 (Ch.4 Questions)"
   ]
  },
  {
   "cell_type": "markdown",
   "id": "573adf30",
   "metadata": {},
   "source": [
    "## Alogorithm Workbench"
   ]
  },
  {
   "cell_type": "markdown",
   "id": "8bcba09d",
   "metadata": {},
   "source": [
    "## Question 6"
   ]
  },
  {
   "cell_type": "code",
   "execution_count": null,
   "id": "cb78d162",
   "metadata": {},
   "outputs": [],
   "source": [
    "#Rewrite the following statements using augmented assignment operators.\n",
    "x+=1 #this is the same as x=x+1\n",
    "x*=2 #this the same as x=x*2\n",
    "x/=10 #this is the same as x=x/10\n",
    "x-=100 #this is the same as x=x-100"
   ]
  },
  {
   "cell_type": "markdown",
   "id": "ca0e8940",
   "metadata": {},
   "source": [
    "## Question 9"
   ]
  },
  {
   "cell_type": "code",
   "execution_count": 1,
   "id": "67299656",
   "metadata": {},
   "outputs": [
    {
     "name": "stdout",
     "output_type": "stream",
     "text": [
      "enter a number 1 through 100:50\n"
     ]
    }
   ],
   "source": [
    "#Write code that prompts the user to enter a number in the range of 1 through 100 and\n",
    "#validates the input.\n",
    "user_input=int(input('enter a number 1 through 100:'))\n",
    "while user_input<1 or 100<user_input:\n",
    "    print('user_input, is not between 1 and 100')"
   ]
  },
  {
   "cell_type": "markdown",
   "id": "5d049854",
   "metadata": {},
   "source": [
    "## Programming Exercises"
   ]
  },
  {
   "cell_type": "markdown",
   "id": "4c59dbca",
   "metadata": {},
   "source": [
    "## Bug Collector"
   ]
  },
  {
   "cell_type": "code",
   "execution_count": 1,
   "id": "229856c9",
   "metadata": {},
   "outputs": [
    {
     "name": "stdout",
     "output_type": "stream",
     "text": [
      "enter the amount of bugs collected today:5\n"
     ]
    },
    {
     "ename": "NameError",
     "evalue": "name 'bugs' is not defined",
     "output_type": "error",
     "traceback": [
      "\u001b[1;31m---------------------------------------------------------------------------\u001b[0m",
      "\u001b[1;31mNameError\u001b[0m                                 Traceback (most recent call last)",
      "Cell \u001b[1;32mIn[1], line 3\u001b[0m\n\u001b[0;32m      1\u001b[0m c\u001b[38;5;241m=\u001b[39m\u001b[38;5;241m1\u001b[39m\n\u001b[0;32m      2\u001b[0m \u001b[38;5;28;01mwhile\u001b[39;00m c\u001b[38;5;241m<\u001b[39m\u001b[38;5;241m5\u001b[39m:\n\u001b[1;32m----> 3\u001b[0m     bugs\u001b[38;5;241m=\u001b[39m\u001b[38;5;28mint\u001b[39m(\u001b[38;5;28minput\u001b[39m(\u001b[38;5;124m'\u001b[39m\u001b[38;5;124menter the amount of bugs collected today:\u001b[39m\u001b[38;5;124m'\u001b[39m))\u001b[38;5;241m+\u001b[39mbugs\n\u001b[0;32m      4\u001b[0m average\u001b[38;5;241m=\u001b[39mbugs\u001b[38;5;241m/\u001b[39m\u001b[38;5;241m5\u001b[39m\n\u001b[0;32m      5\u001b[0m c\u001b[38;5;241m+\u001b[39m\u001b[38;5;241m=\u001b[39m\u001b[38;5;241m5\u001b[39m\n",
      "\u001b[1;31mNameError\u001b[0m: name 'bugs' is not defined"
     ]
    }
   ],
   "source": [
    "c=1\n",
    "while c<5:\n",
    "    bugs=int(input('enter the amount of bugs collected today:'))+bugs\n",
    "average=bugs/5\n",
    "c+=5\n",
    "print('average amountof bugs collected in a week is:,average')"
   ]
  },
  {
   "cell_type": "code",
   "execution_count": 4,
   "id": "aef25089",
   "metadata": {},
   "outputs": [
    {
     "ename": "SyntaxError",
     "evalue": "unterminated string literal (detected at line 7) (2531002888.py, line 7)",
     "output_type": "error",
     "traceback": [
      "\u001b[1;36m  Cell \u001b[1;32mIn[4], line 7\u001b[1;36m\u001b[0m\n\u001b[1;33m    print('average amount of bugs collected in a week is:,average)\u001b[0m\n\u001b[1;37m          ^\u001b[0m\n\u001b[1;31mSyntaxError\u001b[0m\u001b[1;31m:\u001b[0m unterminated string literal (detected at line 7)\n"
     ]
    }
   ],
   "source": [
    "c=1\n",
    "total=0\n",
    "for c in range(5):\n",
    "    bugs=int(input('enter the amount of bugs collected today:'))\n",
    "    total+=bugs\n",
    "average=total/5\n",
    "print('average amount of bugs collected in a week is:,average)"
   ]
  },
  {
   "cell_type": "code",
   "execution_count": null,
   "id": "5f59d7e8",
   "metadata": {},
   "outputs": [],
   "source": []
  }
 ],
 "metadata": {
  "kernelspec": {
   "display_name": "Python 3 (ipykernel)",
   "language": "python",
   "name": "python3"
  },
  "language_info": {
   "codemirror_mode": {
    "name": "ipython",
    "version": 3
   },
   "file_extension": ".py",
   "mimetype": "text/x-python",
   "name": "python",
   "nbconvert_exporter": "python",
   "pygments_lexer": "ipython3",
   "version": "3.11.4"
  }
 },
 "nbformat": 4,
 "nbformat_minor": 5
}
