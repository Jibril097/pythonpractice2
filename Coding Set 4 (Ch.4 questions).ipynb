{
 "cells": [
  {
   "cell_type": "markdown",
   "id": "f2cc4ce8",
   "metadata": {},
   "source": [
    "# Coding Set 4 (Ch.4 Questions)"
   ]
  },
  {
   "cell_type": "markdown",
   "id": "573adf30",
   "metadata": {},
   "source": [
    "## Alogorithm Workbench"
   ]
  },
  {
   "cell_type": "markdown",
   "id": "8bcba09d",
   "metadata": {},
   "source": [
    "## Question 6"
   ]
  },
  {
   "cell_type": "code",
   "execution_count": null,
   "id": "cb78d162",
   "metadata": {},
   "outputs": [],
   "source": [
    "#Rewrite the following statements using augmented assignment operators.\n",
    "x+=1 #this is the same as x=x+1\n",
    "x*=2 #this the same as x=x*2\n",
    "x/=10 #this is the same as x=x/10\n",
    "x-=100 #this is the same as x=x-100"
   ]
  },
  {
   "cell_type": "markdown",
   "id": "ca0e8940",
   "metadata": {},
   "source": [
    "## Question 9"
   ]
  },
  {
   "cell_type": "code",
   "execution_count": 1,
   "id": "67299656",
   "metadata": {},
   "outputs": [
    {
     "name": "stdout",
     "output_type": "stream",
     "text": [
      "enter a number 1 through 100:50\n"
     ]
    }
   ],
   "source": [
    "#Write code that prompts the user to enter a number in the range of 1 through 100 and\n",
    "#validates the input.\n",
    "user_input=int(input('enter a number 1 through 100:'))\n",
    "while user_input<1 or 100<user_input:\n",
    "    print('user_input, is not between 1 and 100')"
   ]
  },
  {
   "cell_type": "markdown",
   "id": "5d049854",
   "metadata": {},
   "source": [
    "## Programming Exercises"
   ]
  },
  {
   "cell_type": "markdown",
   "id": "4c59dbca",
   "metadata": {},
   "source": [
    "## Bug Collector"
   ]
  },
  {
   "cell_type": "code",
   "execution_count": null,
   "id": "229856c9",
   "metadata": {},
   "outputs": [],
   "source": [
    "c=1\n",
    "while c<5:\n",
    "    bugs=int(input('enter the amount of bugs collected today:'))+bugs\n",
    "average=bugs/5\n",
    "c+=5\n",
    "print('average amountof bugs collected in a week is:,average')"
   ]
  },
  {
   "cell_type": "code",
   "execution_count": null,
   "id": "d5772723",
   "metadata": {},
   "outputs": [],
   "source": []
  }
 ],
 "metadata": {
  "kernelspec": {
   "display_name": "Python 3 (ipykernel)",
   "language": "python",
   "name": "python3"
  },
  "language_info": {
   "codemirror_mode": {
    "name": "ipython",
    "version": 3
   },
   "file_extension": ".py",
   "mimetype": "text/x-python",
   "name": "python",
   "nbconvert_exporter": "python",
   "pygments_lexer": "ipython3",
   "version": "3.11.4"
  }
 },
 "nbformat": 4,
 "nbformat_minor": 5
}
