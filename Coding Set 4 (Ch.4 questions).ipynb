{
 "cells": [
  {
   "cell_type": "markdown",
   "id": "9fb69eff",
   "metadata": {},
   "source": [
    "# Coding Set 3 (Ch.3 Questions)"
   ]
  },
  {
   "cell_type": "markdown",
   "id": "673f2a0a",
   "metadata": {},
   "source": [
    "## Alogorithm Workbench"
   ]
  },
  {
   "cell_type": "markdown",
   "id": "61d645fd",
   "metadata": {},
   "source": [
    "## Question 6"
   ]
  },
  {
   "cell_type": "code",
   "execution_count": null,
   "id": "5a6df9c1",
   "metadata": {},
   "outputs": [],
   "source": [
    "#Rewrite the following statements using augmented assignment operators.\n",
    "x+=1 #this is the same as x=x+1\n",
    "x*=2 #this the same as x=x*2\n",
    "x/=10 #this is the same as x=x/10\n",
    "x-=100 #this is the same as x=x-100"
   ]
  },
  {
   "cell_type": "code",
   "execution_count": null,
   "id": "c6a7a27a",
   "metadata": {},
   "outputs": [],
   "source": []
  }
 ],
 "metadata": {
  "kernelspec": {
   "display_name": "Python 3 (ipykernel)",
   "language": "python",
   "name": "python3"
  },
  "language_info": {
   "codemirror_mode": {
    "name": "ipython",
    "version": 3
   },
   "file_extension": ".py",
   "mimetype": "text/x-python",
   "name": "python",
   "nbconvert_exporter": "python",
   "pygments_lexer": "ipython3",
   "version": "3.11.4"
  }
 },
 "nbformat": 4,
 "nbformat_minor": 5
}
