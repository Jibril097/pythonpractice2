{
 "cells": [
  {
   "cell_type": "markdown",
   "id": "627d9b0f",
   "metadata": {},
   "source": [
    "# Coding Set 3 (Ch.3 Questions)"
   ]
  },
  {
   "cell_type": "markdown",
   "id": "0476938f",
   "metadata": {},
   "source": [
    "## Alogorithm Workbench"
   ]
  },
  {
   "cell_type": "markdown",
   "id": "7ec4abce",
   "metadata": {},
   "source": [
    "## Question 6"
   ]
  },
  {
   "cell_type": "code",
   "execution_count": null,
   "id": "e7d3dacf",
   "metadata": {},
   "outputs": [],
   "source": [
    "x+=1\n",
    "x*=2\n",
    "x/=10"
   ]
  }
 ],
 "metadata": {
  "kernelspec": {
   "display_name": "Python 3 (ipykernel)",
   "language": "python",
   "name": "python3"
  },
  "language_info": {
   "codemirror_mode": {
    "name": "ipython",
    "version": 3
   },
   "file_extension": ".py",
   "mimetype": "text/x-python",
   "name": "python",
   "nbconvert_exporter": "python",
   "pygments_lexer": "ipython3",
   "version": "3.11.4"
  }
 },
 "nbformat": 4,
 "nbformat_minor": 5
}
