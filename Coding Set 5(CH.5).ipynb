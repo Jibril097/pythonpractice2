{
 "cells": [
  {
   "cell_type": "markdown",
   "id": "a47013c7",
   "metadata": {},
   "source": [
    "# Coding Set 5\n",
    "## Chapter 5 Questions\n"
   ]
  },
  {
   "cell_type": "markdown",
   "id": "23f9e14a",
   "metadata": {},
   "source": [
    "## Alogorithm Workbench Questions"
   ]
  },
  {
   "cell_type": "markdown",
   "id": "cbf84835",
   "metadata": {},
   "source": [
    "### Question 3"
   ]
  },
  {
   "cell_type": "code",
   "execution_count": null,
   "id": "7514c15e",
   "metadata": {},
   "outputs": [],
   "source": [
    "#I believe a=3,b=2,c=1\n",
    "def my_function(a, b, c):\n",
    "my_function(3, 2, 1) \n",
    "my_function()"
   ]
  },
  {
   "cell_type": "markdown",
   "id": "d9eac2b5",
   "metadata": {},
   "source": [
    "### Question 9"
   ]
  },
  {
   "cell_type": "code",
   "execution_count": 4,
   "id": "ed2e8378",
   "metadata": {},
   "outputs": [
    {
     "name": "stdout",
     "output_type": "stream",
     "text": [
      "enter a number: 6\n",
      "60\n"
     ]
    }
   ],
   "source": [
    "def times_ten(number):\n",
    "    result = number * 10\n",
    "\n",
    "    return result\n",
    "\n",
    "user_inp = int(input('enter a number: '))\n",
    "user_inp = times_ten(user_inp)\n",
    "print(user_inp)"
   ]
  },
  {
   "cell_type": "code",
   "execution_count": null,
   "id": "a7d5506f",
   "metadata": {},
   "outputs": [],
   "source": []
  }
 ],
 "metadata": {
  "kernelspec": {
   "display_name": "Python 3 (ipykernel)",
   "language": "python",
   "name": "python3"
  },
  "language_info": {
   "codemirror_mode": {
    "name": "ipython",
    "version": 3
   },
   "file_extension": ".py",
   "mimetype": "text/x-python",
   "name": "python",
   "nbconvert_exporter": "python",
   "pygments_lexer": "ipython3",
   "version": "3.11.4"
  }
 },
 "nbformat": 4,
 "nbformat_minor": 5
}
