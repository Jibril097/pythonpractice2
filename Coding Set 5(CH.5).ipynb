{
 "cells": [
  {
   "cell_type": "markdown",
   "id": "6a149fa6",
   "metadata": {},
   "source": [
    "# Coding Set 5\n",
    "## Chapter 5 Questions\n"
   ]
  },
  {
   "cell_type": "markdown",
   "id": "5502b355",
   "metadata": {},
   "source": [
    "## Alogorithm Workbench Questions"
   ]
  },
  {
   "cell_type": "markdown",
   "id": "dd8bb2b7",
   "metadata": {},
   "source": [
    "### Question 3"
   ]
  },
  {
   "cell_type": "code",
   "execution_count": null,
   "id": "75960f04",
   "metadata": {},
   "outputs": [],
   "source": [
    "#I believe a=3,b=2,c=1\n",
    "def my_function(a, b, c):\n",
    "my_function(3, 2, 1) \n",
    "my_function()"
   ]
  },
  {
   "cell_type": "markdown",
   "id": "31b59756",
   "metadata": {},
   "source": [
    "### Question 9"
   ]
  },
  {
   "cell_type": "code",
   "execution_count": 4,
   "id": "dce7bdd6",
   "metadata": {},
   "outputs": [
    {
     "name": "stdout",
     "output_type": "stream",
     "text": [
      "enter a number: 6\n",
      "60\n"
     ]
    }
   ],
   "source": [
    "#Write a function named times_ten that accepts a number as an argument.\n",
    "#When the function is called, it should return the value of its argument multiplied times 10.\n",
    "def times_ten(number):\n",
    "    result = number * 10\n",
    "\n",
    "    return result\n",
    "\n",
    "user_inp = int(input('enter a number: '))\n",
    "user_inp = times_ten(user_inp)\n",
    "print(user_inp)"
   ]
  },
  {
   "cell_type": "markdown",
   "id": "bf108567",
   "metadata": {},
   "source": [
    "# Programming Exercises"
   ]
  },
  {
   "cell_type": "markdown",
   "id": "a9fe0bb5",
   "metadata": {},
   "source": [
    "## 1. Kilometer Converter"
   ]
  },
  {
   "cell_type": "code",
   "execution_count": 5,
   "id": "812d9189",
   "metadata": {},
   "outputs": [
    {
     "name": "stdout",
     "output_type": "stream",
     "text": [
      "enter a distance in km: 6\n",
      "3.7283999999999997\n"
     ]
    }
   ],
   "source": [
    "#Write a program that asks the user to enter a distance in kilometers,\n",
    "#then converts that distance to miles. The conversion formula is as follows:\n",
    "def conversion():\n",
    "    kilometers = int(input('enter a distance in km: '))\n",
    "    find_miles = kilometers * 0.6214\n",
    "    print(find_miles)\n",
    "conversion()    "
   ]
  },
  {
   "cell_type": "markdown",
   "id": "6b66e7cc",
   "metadata": {},
   "source": [
    "## 17. Prime Numbers"
   ]
  },
  {
   "cell_type": "code",
   "execution_count": 6,
   "id": "c373dc6b",
   "metadata": {},
   "outputs": [
    {
     "name": "stdout",
     "output_type": "stream",
     "text": [
      "enter any number: 7\n"
     ]
    },
    {
     "data": {
      "text/plain": [
       "True"
      ]
     },
     "execution_count": 6,
     "metadata": {},
     "output_type": "execute_result"
    }
   ],
   "source": [
    "#A prime number is a number that is only evenly divisible by itself and 1. For example, the\n",
    "#number 5 is prime because it can only be evenly divided by 1 and 5.\n",
    "#The number 6, how-ever, is not prime because it can be divided evenly by 1, 2, 3, and 6.\n",
    "#Write a Boolean function named is_prime which takes an integer as an argument and\n",
    "#returns true if the argument is a prime number, or false otherwise. Use the function in\n",
    "#a program that prompts the user to enter a number then displays a message indicating\n",
    "#whether the number is prime.\n",
    "def is_prime(num):\n",
    "  if num <= 1:\n",
    "    return False\n",
    "  for I in range (2,num):\n",
    "    if num % I == 0:\n",
    "      return False\n",
    "  else:\n",
    "    return True\n",
    "user_inp = int(input(\"enter any number: \"))\n",
    "is_prime(user_inp)\n"
   ]
  },
  {
   "cell_type": "markdown",
   "id": "b649869f",
   "metadata": {},
   "source": [
    "## 18. Prime Number List"
   ]
  },
  {
   "cell_type": "code",
   "execution_count": 7,
   "id": "69e06d85",
   "metadata": {},
   "outputs": [
    {
     "name": "stdout",
     "output_type": "stream",
     "text": [
      "enter any number: 4\n",
      "4 is not a prime number. \n",
      "Here's a list of prime numbers 1-100: \n",
      "2\n",
      "3\n",
      "5\n",
      "7\n",
      "11\n",
      "13\n",
      "17\n",
      "19\n",
      "23\n",
      "29\n",
      "31\n",
      "37\n",
      "41\n",
      "43\n",
      "47\n",
      "53\n",
      "59\n",
      "61\n",
      "67\n",
      "71\n",
      "73\n",
      "79\n",
      "83\n",
      "89\n",
      "97\n"
     ]
    }
   ],
   "source": [
    "#This exercise assumes that you have already written the is_prime function in Programming\n",
    "#Exercise 17. Write another program that displays all of the prime numbers from 1 to 100.\n",
    "#The program should have a loop that calls the is_prime function.\n",
    "def is_prime(num):\n",
    "  if num <= 1:\n",
    "    return False\n",
    "  for I in range (2,num):\n",
    "    if num % I == 0:\n",
    "      return False\n",
    "  else:\n",
    "    return True\n",
    "user_inp = int(input(\"enter any number: \"))\n",
    "\n",
    "if is_prime(user_inp):\n",
    "  print(f'{user_inp} is a prime number. ')\n",
    "else:\n",
    "  print(f'{user_inp} is not a prime number. ')\n",
    "print(\"Here's a list of prime numbers 1-100: \")\n",
    "for num in range(1,101):\n",
    "  if is_prime(num):\n",
    "    print(num)"
   ]
  },
  {
   "cell_type": "code",
   "execution_count": null,
   "id": "8da5f99b",
   "metadata": {},
   "outputs": [],
   "source": []
  }
 ],
 "metadata": {
  "kernelspec": {
   "display_name": "Python 3 (ipykernel)",
   "language": "python",
   "name": "python3"
  },
  "language_info": {
   "codemirror_mode": {
    "name": "ipython",
    "version": 3
   },
   "file_extension": ".py",
   "mimetype": "text/x-python",
   "name": "python",
   "nbconvert_exporter": "python",
   "pygments_lexer": "ipython3",
   "version": "3.11.4"
  }
 },
 "nbformat": 4,
 "nbformat_minor": 5
}
