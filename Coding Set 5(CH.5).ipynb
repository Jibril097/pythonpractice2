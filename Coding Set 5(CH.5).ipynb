{
 "cells": [
  {
   "cell_type": "markdown",
   "id": "ae1b4fc9",
   "metadata": {},
   "source": [
    "# Coding Set 5\n",
    "## Chapter 5 Questions\n"
   ]
  },
  {
   "cell_type": "markdown",
   "id": "1ef9d89d",
   "metadata": {},
   "source": [
    "## Alogorithm Workbench Questions"
   ]
  },
  {
   "cell_type": "markdown",
   "id": "a032dc0d",
   "metadata": {},
   "source": [
    "### Question 3"
   ]
  },
  {
   "cell_type": "code",
   "execution_count": null,
   "id": "a7d5d9e2",
   "metadata": {},
   "outputs": [],
   "source": [
    "#I believe a=3,b=2,c=1\n",
    "def my_function(a, b, c):\n",
    "my_function(3, 2, 1) \n",
    "my_function()"
   ]
  },
  {
   "cell_type": "markdown",
   "id": "3764dae1",
   "metadata": {},
   "source": [
    "### Question 9"
   ]
  },
  {
   "cell_type": "code",
   "execution_count": 4,
   "id": "3a035861",
   "metadata": {},
   "outputs": [
    {
     "name": "stdout",
     "output_type": "stream",
     "text": [
      "enter a number: 6\n",
      "60\n"
     ]
    }
   ],
   "source": [
    "#Write a function named times_ten that accepts a number as an argument.\n",
    "#When the function is called, it should return the value of its argument multiplied times 10.\n",
    "def times_ten(number):\n",
    "    result = number * 10\n",
    "\n",
    "    return result\n",
    "\n",
    "user_inp = int(input('enter a number: '))\n",
    "user_inp = times_ten(user_inp)\n",
    "print(user_inp)"
   ]
  },
  {
   "cell_type": "markdown",
   "id": "ee8b6586",
   "metadata": {},
   "source": [
    "# Programming Exercises"
   ]
  },
  {
   "cell_type": "markdown",
   "id": "bdef13d2",
   "metadata": {},
   "source": [
    "## 1. Kilometer Converter"
   ]
  },
  {
   "cell_type": "code",
   "execution_count": 5,
   "id": "00c5a684",
   "metadata": {},
   "outputs": [
    {
     "name": "stdout",
     "output_type": "stream",
     "text": [
      "enter a distance in km: 6\n",
      "3.7283999999999997\n"
     ]
    }
   ],
   "source": [
    "#Write a program that asks the user to enter a distance in kilometers,\n",
    "#then converts that distance to miles. The conversion formula is as follows:\n",
    "def conversion():\n",
    "    kilometers = int(input('enter a distance in km: '))\n",
    "    find_miles = kilometers * 0.6214\n",
    "    print(find_miles)\n",
    "conversion()    "
   ]
  },
  {
   "cell_type": "markdown",
   "id": "cf58169f",
   "metadata": {},
   "source": [
    "## "
   ]
  }
 ],
 "metadata": {
  "kernelspec": {
   "display_name": "Python 3 (ipykernel)",
   "language": "python",
   "name": "python3"
  },
  "language_info": {
   "codemirror_mode": {
    "name": "ipython",
    "version": 3
   },
   "file_extension": ".py",
   "mimetype": "text/x-python",
   "name": "python",
   "nbconvert_exporter": "python",
   "pygments_lexer": "ipython3",
   "version": "3.11.4"
  }
 },
 "nbformat": 4,
 "nbformat_minor": 5
}
