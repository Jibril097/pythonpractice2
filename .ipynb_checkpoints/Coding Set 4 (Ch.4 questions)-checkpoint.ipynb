{
 "cells": [
  {
   "cell_type": "markdown",
   "id": "f2cc4ce8",
   "metadata": {},
   "source": [
    "# Coding Set 4 (Ch.4 Questions)"
   ]
  },
  {
   "cell_type": "markdown",
   "id": "573adf30",
   "metadata": {},
   "source": [
    "## Alogorithm Workbench"
   ]
  },
  {
   "cell_type": "markdown",
   "id": "8bcba09d",
   "metadata": {},
   "source": [
    "## Question 6"
   ]
  },
  {
   "cell_type": "code",
   "execution_count": null,
   "id": "cb78d162",
   "metadata": {},
   "outputs": [],
   "source": [
    "#Rewrite the following statements using augmented assignment operators.\n",
    "x+=1 #this is the same as x=x+1\n",
    "x*=2 #this the same as x=x*2\n",
    "x/=10 #this is the same as x=x/10\n",
    "x-=100 #this is the same as x=x-100"
   ]
  },
  {
   "cell_type": "markdown",
   "id": "ca0e8940",
   "metadata": {},
   "source": [
    "## Question 9"
   ]
  },
  {
   "cell_type": "code",
   "execution_count": null,
   "id": "67299656",
   "metadata": {},
   "outputs": [],
   "source": [
    "#Write code that prompts the user to enter a number in the range of 1 through 100 and\n",
    "#validates the input.\n",
    "user_input=int(input('enter a number 1 through 100:'))\n",
    "while user_input<1 or 100<user_input:\n",
    "    print('user_input, is not between 1 and 100')"
   ]
  },
  {
   "cell_type": "markdown",
   "id": "5d049854",
   "metadata": {},
   "source": [
    "## Programming Exercises"
   ]
  },
  {
   "cell_type": "markdown",
   "id": "4c59dbca",
   "metadata": {},
   "source": [
    "## Bug Collector"
   ]
  },
  {
   "cell_type": "code",
   "execution_count": null,
   "id": "229856c9",
   "metadata": {},
   "outputs": [],
   "source": [
    "#A bug collector collects bugs every day for five days.\n",
    "#Write a program that keeps a running total of the \n",
    "#number of bugs collected during the five days.\n",
    "#The loop should ask for the\n",
    "#number of bugs collected for each day,and when the loop is finished, the program should\n",
    "#display the total number of bugs collected.\n",
    "c=1\n",
    "while c<5:\n",
    "    bugs=int(input('enter the amount of bugs collected today:'))+bugs\n",
    "average=bugs/5\n",
    "c+=5\n",
    "print('average amountof bugs collected in a week is:,average')"
   ]
  },
  {
   "cell_type": "code",
   "execution_count": null,
   "id": "aef25089",
   "metadata": {},
   "outputs": [],
   "source": [
    "c=1\n",
    "total=0\n",
    "for c in range(5):\n",
    "    bugs=int(input('enter the amount of bugs collected today:'))\n",
    "    total+=bugs\n",
    "average=total/5\n",
    "print('average amount of bugs collected in a week is:,average)"
   ]
  },
  {
   "cell_type": "markdown",
   "id": "69f41c7b",
   "metadata": {},
   "source": [
    "## Distanced Traveled"
   ]
  },
  {
   "cell_type": "code",
   "execution_count": null,
   "id": "ab8f23a6",
   "metadata": {},
   "outputs": [],
   "source": [
    "#Write a program that asks the user for the speed of a vehicle (in miles per hour)\n",
    "#and the number of hours it has traveled.\n",
    "#It should then use a loop to display the distance\n",
    "#the vehicle has traveled for each hour of that time period.\n",
    "speed=int(input('enter mph:'))\n",
    "while speed<0:\n",
    "    speed=int(input('enter a postive number:'))\n",
    "time=int(input('enter the hours'))\n",
    "while time<0:\n",
    "    time=int(input('enter a postive number'))\n",
    "distance=0\n",
    "for time in range(time):\n",
    "    distance=speed*(time+1)\n",
    "output=\"\\ntime,:distance traveled\\n\"\\\n",
    "        \"----------------\\n\"\n",
    "output+=format(time+1)+ \"    \"+\\\n",
    "        format(distance)+\"\\n\"\n",
    "print(output)"
   ]
  },
  {
   "cell_type": "markdown",
   "id": "7122481c",
   "metadata": {},
   "source": [
    "   ## Exercise 14"
   ]
  },
  {
   "cell_type": "code",
   "execution_count": 39,
   "id": "ab0c4629",
   "metadata": {},
   "outputs": [
    {
     "name": "stdout",
     "output_type": "stream",
     "text": [
      "*****\n",
      "****\n",
      "***\n",
      "**\n",
      "*\n"
     ]
    }
   ],
   "source": [
    "#Write a program that uses nested loops to draw this pattern:\n",
    "for i in range(5,0,-1):\n",
    "    for j in range(1,i+1):\n",
    "        print('*',end='')\n",
    "    print()    \n"
   ]
  },
  {
   "cell_type": "markdown",
   "id": "667ac62b",
   "metadata": {},
   "source": [
    "## Sleep Debt"
   ]
  },
  {
   "cell_type": "code",
   "execution_count": null,
   "id": "62bef878",
   "metadata": {},
   "outputs": [],
   "source": [
    "Days=7\n",
    "required_sleep_time=Days*8\n",
    "hours_slept=0.0\n",
    "total_sleep=0.0\n",
    "\n",
    "for day in range(Days):\n",
    "    hours_slept=float(input('how many sleep hours a day'+format(day+1)+'?'))\n",
    "    \n",
    "    while hours_slept<0:\n",
    "        hours_slept=float('')"
   ]
  }
 ],
 "metadata": {
  "kernelspec": {
   "display_name": "Python 3 (ipykernel)",
   "language": "python",
   "name": "python3"
  },
  "language_info": {
   "codemirror_mode": {
    "name": "ipython",
    "version": 3
   },
   "file_extension": ".py",
   "mimetype": "text/x-python",
   "name": "python",
   "nbconvert_exporter": "python",
   "pygments_lexer": "ipython3",
   "version": "3.11.4"
  }
 },
 "nbformat": 4,
 "nbformat_minor": 5
}
