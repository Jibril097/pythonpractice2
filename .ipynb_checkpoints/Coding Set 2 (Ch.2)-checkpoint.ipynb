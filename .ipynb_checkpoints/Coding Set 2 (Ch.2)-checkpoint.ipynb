{
 "cells": [
  {
   "cell_type": "markdown",
   "id": "f4bc8059",
   "metadata": {},
   "source": [
    "# Coding Set 2 (Ch.2)"
   ]
  },
  {
   "cell_type": "markdown",
   "id": "e0f685bf",
   "metadata": {},
   "source": [
    "## Alogorithm Workbench Question"
   ]
  },
  {
   "cell_type": "markdown",
   "id": "b70dd018",
   "metadata": {},
   "source": [
    "### Question 12"
   ]
  },
  {
   "cell_type": "code",
   "execution_count": 1,
   "id": "39b6393e",
   "metadata": {},
   "outputs": [
    {
     "name": "stdout",
     "output_type": "stream",
     "text": [
      "X\tO\tX\n",
      "O\tX\tO\n",
      "X\tO\tX\n",
      "\n"
     ]
    }
   ],
   "source": [
    "#What will the following statement display?\n",
    "#I think the statement will print side by side\n",
    "print('X\\tO\\tX\\nO\\tX\\tO\\nX\\tO\\tX\\n')"
   ]
  },
  {
   "cell_type": "markdown",
   "id": "893b3de1",
   "metadata": {},
   "source": [
    "## Programming exercise "
   ]
  },
  {
   "cell_type": "markdown",
   "id": "841b2cc5",
   "metadata": {},
   "source": [
    "### Exercise 1"
   ]
  },
  {
   "cell_type": "code",
   "execution_count": 2,
   "id": "f8df85a6",
   "metadata": {},
   "outputs": [
    {
     "name": "stdout",
     "output_type": "stream",
     "text": [
      "Jibril Richardson\n",
      "320 parkwest court,Lansing MI,48917\n",
      "Phone number:5175153237\n",
      "College Major: Cybersecurity\n"
     ]
    }
   ],
   "source": [
    "#Write a program that displays the following information:\n",
    "# Your name\n",
    "#Your address, with city, state, and ZIP\n",
    "#Your telephone number\n",
    "#Your college major\n",
    "print('Jibril Richardson')\n",
    "print ('320 parkwest court,Lansing MI,48917')\n",
    "print('Phone number:5175153237')\n",
    "print('College Major: Cybersecurity')"
   ]
  },
  {
   "cell_type": "code",
   "execution_count": 3,
   "id": "c045d077",
   "metadata": {},
   "outputs": [
    {
     "name": "stdout",
     "output_type": "stream",
     "text": [
      "enter the length of row, in feet:50\n",
      "enter amount of the space used by an end-post assembly:20\n",
      "enter amount of space between vines:40\n",
      "number of grapevines that will fit in a row= 0.25\n"
     ]
    }
   ],
   "source": [
    "#A vineyard owner is planting several new rows of grapevines, and needs to know how many\n",
    "#grapevines to plant in each row. She has determined that after measuring the length of a\n",
    "#future row, she can use the following formula to calculate the number of vines that will fit\n",
    "#in the row, along with the trellis end-post assemblies that will need to be constructed at\n",
    "#The terms in the formula are:\n",
    "#V is the number of grapevines that will fit in the row.\n",
    "#R is the length of the row, in feet.\n",
    "#E is the amount of space, in feet, used by an end-post assembly.\n",
    "#S is the space between vines, in feet.\n",
    "#Write a program that makes the calculation for the vineyard owner. The program should\n",
    "#ask the user to input the following:\n",
    "#The length of the row, in feet\n",
    "#The amount of space used by an end-post assembly, in feet\n",
    "#The amount of space between the vines, in feet\n",
    "#Once the input data has been entered, the program should calculate and display the num-\n",
    "#ber of grapevines that will fit in the row.\n",
    "each end of the row:\n",
    "R=float(input('enter the length of row, in feet:'))\n",
    "E=float(input('enter amount of the space used by an end-post assembly:'))\n",
    "S=float(input('enter amount of space between vines:'))\n",
    "\n",
    "V=(R-(2*E))/S\n",
    "print('number of grapevines that will fit in a row=',V)"
   ]
  },
  {
   "cell_type": "code",
   "execution_count": null,
   "id": "4c38f7bc",
   "metadata": {},
   "outputs": [],
   "source": []
  }
 ],
 "metadata": {
  "kernelspec": {
   "display_name": "Python 3 (ipykernel)",
   "language": "python",
   "name": "python3"
  },
  "language_info": {
   "codemirror_mode": {
    "name": "ipython",
    "version": 3
   },
   "file_extension": ".py",
   "mimetype": "text/x-python",
   "name": "python",
   "nbconvert_exporter": "python",
   "pygments_lexer": "ipython3",
   "version": "3.11.4"
  }
 },
 "nbformat": 4,
 "nbformat_minor": 5
}
