{
 "cells": [
  {
   "cell_type": "markdown",
   "id": "bdf280c3",
   "metadata": {},
   "source": [
    "# Coding Set 2 (Ch.2)"
   ]
  },
  {
   "cell_type": "markdown",
   "id": "91a44aea",
   "metadata": {},
   "source": [
    "## Alogorithm Workbench Question"
   ]
  },
  {
   "cell_type": "markdown",
   "id": "3a00442f",
   "metadata": {},
   "source": [
    "### Question 12"
   ]
  },
  {
   "cell_type": "code",
   "execution_count": 1,
   "id": "987ca751",
   "metadata": {},
   "outputs": [
    {
     "name": "stdout",
     "output_type": "stream",
     "text": [
      "X\tO\tX\n",
      "O\tX\tO\n",
      "X\tO\tX\n",
      "\n"
     ]
    }
   ],
   "source": [
    "#What will the following statement display?\n",
    "#I think the statement will print side by side\n",
    "print('X\\tO\\tX\\nO\\tX\\tO\\nX\\tO\\tX\\n')"
   ]
  },
  {
   "cell_type": "markdown",
   "id": "9742ead5",
   "metadata": {},
   "source": [
    "## Programming exercise "
   ]
  },
  {
   "cell_type": "markdown",
   "id": "5f4346c6",
   "metadata": {},
   "source": [
    "### Exercise 1"
   ]
  },
  {
   "cell_type": "code",
   "execution_count": 2,
   "id": "fc15efff",
   "metadata": {},
   "outputs": [
    {
     "name": "stdout",
     "output_type": "stream",
     "text": [
      "Jibril Richardson\n",
      "320 parkwest court,Lansing MI,48917\n",
      "Phone number:5175153237\n",
      "College Major: Cybersecurity\n"
     ]
    }
   ],
   "source": [
    "print('Jibril Richardson')\n",
    "print ('320 parkwest court,Lansing MI,48917')\n",
    "print('Phone number:5175153237')\n",
    "print('College Major: Cybersecurity')"
   ]
  },
  {
   "cell_type": "code",
   "execution_count": null,
   "id": "2697255e",
   "metadata": {},
   "outputs": [],
   "source": []
  }
 ],
 "metadata": {
  "kernelspec": {
   "display_name": "Python 3 (ipykernel)",
   "language": "python",
   "name": "python3"
  },
  "language_info": {
   "codemirror_mode": {
    "name": "ipython",
    "version": 3
   },
   "file_extension": ".py",
   "mimetype": "text/x-python",
   "name": "python",
   "nbconvert_exporter": "python",
   "pygments_lexer": "ipython3",
   "version": "3.11.4"
  }
 },
 "nbformat": 4,
 "nbformat_minor": 5
}
