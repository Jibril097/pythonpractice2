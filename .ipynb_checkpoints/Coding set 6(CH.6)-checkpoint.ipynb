{
 "cells": [
  {
   "cell_type": "markdown",
   "id": "6e09b208",
   "metadata": {},
   "source": [
    "# Coding Set 6 (Ch.6)"
   ]
  },
  {
   "cell_type": "markdown",
   "id": "ba0f2ec0",
   "metadata": {},
   "source": [
    "## Alogorithm Workbench Exercises"
   ]
  },
  {
   "cell_type": "markdown",
   "id": "e638fe76",
   "metadata": {},
   "source": [
    "### Exercise 1"
   ]
  },
  {
   "cell_type": "code",
   "execution_count": 8,
   "id": "0f438b2c",
   "metadata": {},
   "outputs": [],
   "source": [
    "#Write a program that opens an output file with the filename things.txt, writes the\n",
    "#name of an animal, a fruit, and a country to the file on separate lines, \n",
    "#then closes the file.\n",
    "def main ():\n",
    "    outfile=open('things.txt','w')\n",
    "    \n",
    "    outfile.write('lion\\n')\n",
    "    outfile.write('peach\\n')\n",
    "    outfile.write('japan\\n')\n",
    "    \n",
    "    outfile.close()\n",
    "    \n",
    "main()    "
   ]
  },
  {
   "cell_type": "code",
   "execution_count": 13,
   "id": "e2463ba1",
   "metadata": {},
   "outputs": [],
   "source": [
    "def main():\n",
    "    my_file= open('things.txt','w') \n",
    "    my_file.write('Cat\\nApple\\nQatar') \n",
    "    my_file.close()\n",
    "main()    "
   ]
  },
  {
   "cell_type": "markdown",
   "id": "f8c8aad8",
   "metadata": {},
   "source": [
    "### Exercise 2"
   ]
  },
  {
   "cell_type": "code",
   "execution_count": 14,
   "id": "8c7dd2f3",
   "metadata": {},
   "outputs": [
    {
     "name": "stdout",
     "output_type": "stream",
     "text": [
      "Cat\n",
      "Apple\n",
      "Qatar\n"
     ]
    }
   ],
   "source": [
    "def main():\n",
    "    infile = open('things.txt', 'r')\n",
    "    file_contents = infile.read()\n",
    "    infile.close()\n",
    "    print(file_contents)\n",
    "main()    "
   ]
  },
  {
   "cell_type": "markdown",
   "id": "319010ef",
   "metadata": {},
   "source": [
    "## Programming Exercises "
   ]
  },
  {
   "cell_type": "markdown",
   "id": "7f7129b5",
   "metadata": {},
   "source": [
    "### 1. File display"
   ]
  },
  {
   "cell_type": "code",
   "execution_count": 16,
   "id": "800b53f6",
   "metadata": {},
   "outputs": [
    {
     "name": "stdout",
     "output_type": "stream",
     "text": [
      "enter a number:34\n",
      "enter another number:800\n",
      "enter another number:3\n"
     ]
    }
   ],
   "source": [
    "#Assume a file containing a series of integers is \n",
    "#named numbers.txt and exists on the com-\n",
    "#disk.write a program that displays \n",
    "#all the number in the file\n",
    "def main():\n",
    "    outfile=open('numbers.txt','w')\n",
    "    \n",
    "    num1=int(input('enter a number:'))\n",
    "    num2=int(input('enter another number:'))\n",
    "    num3=int(input('enter another number:'))\n",
    "    \n",
    "    outfile.write(str(num1)+'\\n')\n",
    "    outfile.write(str(num2)+'\\n')\n",
    "    outfile.write(str(num3)+'\\n')\n",
    "    \n",
    "    outfile.close\n",
    "    \n",
    "main()    \n",
    "    \n",
    "    "
   ]
  },
  {
   "cell_type": "code",
   "execution_count": 18,
   "id": "2ee7083f",
   "metadata": {},
   "outputs": [
    {
     "name": "stdout",
     "output_type": "stream",
     "text": [
      "The numbers are: 34 800 3\n"
     ]
    }
   ],
   "source": [
    "#this is the read file from the numbers.txt file\n",
    "def main():\n",
    "    infile = open('numbers.txt', 'r')\n",
    "    \n",
    "    num1 = int(infile.readline())\n",
    "    num2 = int(infile.readline())\n",
    "    num3 = int(infile.readline())\n",
    "    \n",
    "    infile.close()\n",
    "    \n",
    "    print('The numbers are:', num1, num2, num3)\n",
    "\n",
    "main()    "
   ]
  },
  {
   "cell_type": "markdown",
   "id": "1855b766",
   "metadata": {},
   "source": [
    "### Average numbers"
   ]
  },
  {
   "cell_type": "code",
   "execution_count": null,
   "id": "9dd6ba3f",
   "metadata": {},
   "outputs": [],
   "source": [
    "#Assume a file containing a series of integers is named numbers.txt and exists on the\n",
    "#computer’s disk. Write a program that calculates the average \n",
    "#of all the numbers stored in the file.\n",
    "def main():\n",
    "    infile = open('numbers.txt', 'r')\n",
    "    \n",
    "    num1 = int(infile.readline())\n",
    "    num2 = int(infile.readline())\n",
    "    num3 = int(infile.readline())\n",
    "    \n",
    "    infile.close()\n",
    "    \n",
    "    total = num1 + num2 + num3/3\n",
    "print('Their total is:', total)    "
   ]
  },
  {
   "cell_type": "code",
   "execution_count": null,
   "id": "cf3c9f31",
   "metadata": {},
   "outputs": [],
   "source": [
    "def main():\n",
    "    infile=open('numbers.txt','r')\n",
    "    num=infile.readline()\n",
    "while num != '':\n",
    "    total+=int(num)\n",
    "    counter+=1\n",
    "    num=infile.readline()\n",
    "    \n",
    "    infile.close\n",
    "    \n",
    "print('the average is', format(total/counter, '2f')) \n",
    "\n",
    "main()"
   ]
  },
  {
   "cell_type": "markdown",
   "id": "c38fe5ce",
   "metadata": {},
   "source": [
    "### Exception Handling"
   ]
  },
  {
   "cell_type": "code",
   "execution_count": 23,
   "id": "47524801",
   "metadata": {},
   "outputs": [
    {
     "name": "stdout",
     "output_type": "stream",
     "text": [
      "the average is 34.0\n",
      "the average is 417.0\n",
      "the average is 279.0\n"
     ]
    }
   ],
   "source": [
    "#Modify the program that you wrote for Exercise 6 so it handles the following exceptions:\n",
    "#It should handle any IOError exceptions that are raised when the file is opened and data\n",
    "#is read from it.\n",
    "#It should handle any ValueError exceptions that are raised when the items that are read\n",
    "#from the file are converted to a number.\n",
    "\n",
    "def main():\n",
    "    try:\n",
    "        infile=open('numbers.txt','r')\n",
    "    except Expection as errorgenerated:\n",
    "        print('file not found',errorgenerated)\n",
    "    else:\n",
    "        total=0\n",
    "        counter=0\n",
    "        line=infile.readline()\n",
    "    while line != '':\n",
    "        counter+=1\n",
    "        total+=int(line)\n",
    "        line=infile.readline()\n",
    "        \n",
    "        average=total/counter\n",
    "        print('the average is',average)\n",
    "        \n",
    "main()        \n",
    "        \n",
    "\n"
   ]
  },
  {
   "cell_type": "markdown",
   "id": "2c1c4c06",
   "metadata": {},
   "source": [
    "### Sum of numbers"
   ]
  },
  {
   "cell_type": "code",
   "execution_count": 24,
   "id": "cc39cf4b",
   "metadata": {},
   "outputs": [
    {
     "ename": "NameError",
     "evalue": "name 'total' is not defined",
     "output_type": "error",
     "traceback": [
      "\u001b[1;31m---------------------------------------------------------------------------\u001b[0m",
      "\u001b[1;31mNameError\u001b[0m                                 Traceback (most recent call last)",
      "Cell \u001b[1;32mIn[24], line 11\u001b[0m\n\u001b[0;32m      8\u001b[0m     infile\u001b[38;5;241m.\u001b[39mclose()\n\u001b[0;32m     10\u001b[0m     total \u001b[38;5;241m=\u001b[39m num1 \u001b[38;5;241m+\u001b[39m num2 \u001b[38;5;241m+\u001b[39m num3\n\u001b[1;32m---> 11\u001b[0m \u001b[38;5;28mprint\u001b[39m(\u001b[38;5;124m'\u001b[39m\u001b[38;5;124mTheir total is:\u001b[39m\u001b[38;5;124m'\u001b[39m, total)\n",
      "\u001b[1;31mNameError\u001b[0m: name 'total' is not defined"
     ]
    }
   ],
   "source": [
    "def main():\n",
    "    infile = open('numbers.txt', 'r')\n",
    "    \n",
    "    num1 = int(infile.readline())\n",
    "    num2 = int(infile.readline())\n",
    "    num3 = int(infile.readline())\n",
    "    \n",
    "    infile.close()\n",
    "    \n",
    "    total = num1 + num2 + num3\n",
    "print('Their total is:', total) "
   ]
  },
  {
   "cell_type": "code",
   "execution_count": null,
   "id": "69cee5ff",
   "metadata": {},
   "outputs": [],
   "source": [
    "def main():\n",
    "    infile = open('numbers.txt', 'r')\n",
    "    \n",
    "    num1 = int(infile.readline())\n",
    "    num2 = int(infile.readline())\n",
    "    num3 = int(infile.readline())\n",
    "    \n",
    "    infile.close()"
   ]
  }
 ],
 "metadata": {
  "kernelspec": {
   "display_name": "Python 3 (ipykernel)",
   "language": "python",
   "name": "python3"
  },
  "language_info": {
   "codemirror_mode": {
    "name": "ipython",
    "version": 3
   },
   "file_extension": ".py",
   "mimetype": "text/x-python",
   "name": "python",
   "nbconvert_exporter": "python",
   "pygments_lexer": "ipython3",
   "version": "3.11.4"
  }
 },
 "nbformat": 4,
 "nbformat_minor": 5
}
