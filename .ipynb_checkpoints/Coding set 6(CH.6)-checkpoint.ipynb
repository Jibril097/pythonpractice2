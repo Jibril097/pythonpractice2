{
 "cells": [
  {
   "cell_type": "markdown",
   "id": "6768d7c8",
   "metadata": {},
   "source": [
    "# Coding Set 6 (Ch.6)"
   ]
  },
  {
   "cell_type": "markdown",
   "id": "77aec0dd",
   "metadata": {},
   "source": [
    "## Alogorithm Workbench Exercises"
   ]
  },
  {
   "cell_type": "markdown",
   "id": "51eb3959",
   "metadata": {},
   "source": [
    "### Exercise 1"
   ]
  },
  {
   "cell_type": "code",
   "execution_count": 8,
   "id": "034e0b65",
   "metadata": {},
   "outputs": [],
   "source": [
    "#Write a program that opens an output file with the filename things.txt, writes the\n",
    "#name of an animal, a fruit, and a country to the file on separate lines, \n",
    "#then closes the file.\n",
    "def main ():\n",
    "    outfile=open('things.txt','w')\n",
    "    \n",
    "    outfile.write('lion\\n')\n",
    "    outfile.write('peach\\n')\n",
    "    outfile.write('japan\\n')\n",
    "    \n",
    "    outfile.close()\n",
    "    \n",
    "main()    "
   ]
  },
  {
   "cell_type": "code",
   "execution_count": 13,
   "id": "3b0e3f6c",
   "metadata": {},
   "outputs": [],
   "source": [
    "def main():\n",
    "    my_file= open('things.txt','w') \n",
    "    my_file.write('Cat\\nApple\\nQatar') \n",
    "    my_file.close()\n",
    "main()    "
   ]
  },
  {
   "cell_type": "markdown",
   "id": "25d827ba",
   "metadata": {},
   "source": [
    "### Exercise 2"
   ]
  },
  {
   "cell_type": "code",
   "execution_count": 14,
   "id": "6fee97f0",
   "metadata": {},
   "outputs": [
    {
     "name": "stdout",
     "output_type": "stream",
     "text": [
      "Cat\n",
      "Apple\n",
      "Qatar\n"
     ]
    }
   ],
   "source": [
    "def main():\n",
    "    infile = open('things.txt', 'r')\n",
    "    file_contents = infile.read()\n",
    "    infile.close()\n",
    "    print(file_contents)\n",
    "main()    "
   ]
  },
  {
   "cell_type": "markdown",
   "id": "331cbcbe",
   "metadata": {},
   "source": [
    "## Programming Exercises "
   ]
  },
  {
   "cell_type": "markdown",
   "id": "eafa1b23",
   "metadata": {},
   "source": [
    "### 1. File display"
   ]
  },
  {
   "cell_type": "code",
   "execution_count": 16,
   "id": "f4ba1f06",
   "metadata": {},
   "outputs": [
    {
     "name": "stdout",
     "output_type": "stream",
     "text": [
      "enter a number:34\n",
      "enter another number:800\n",
      "enter another number:3\n"
     ]
    }
   ],
   "source": [
    "#Assume a file containing a series of integers is \n",
    "#named numbers.txt and exists on the com-\n",
    "#disk.write a program that displays \n",
    "#all the number in the file\n",
    "def main():\n",
    "    outfile=open('numbers.txt','w')\n",
    "    \n",
    "    num1=int(input('enter a number:'))\n",
    "    num2=int(input('enter another number:'))\n",
    "    num3=int(input('enter another number:'))\n",
    "    \n",
    "    outfile.write(str(num1)+'\\n')\n",
    "    outfile.write(str(num2)+'\\n')\n",
    "    outfile.write(str(num3)+'\\n')\n",
    "    \n",
    "    outfile.close\n",
    "    \n",
    "main()    \n",
    "    \n",
    "    "
   ]
  },
  {
   "cell_type": "code",
   "execution_count": 18,
   "id": "e00c7a8e",
   "metadata": {},
   "outputs": [
    {
     "name": "stdout",
     "output_type": "stream",
     "text": [
      "The numbers are: 34 800 3\n"
     ]
    }
   ],
   "source": [
    "#this is the read file from the numbers.txt file\n",
    "def main():\n",
    "    infile = open('numbers.txt', 'r')\n",
    "    \n",
    "    num1 = int(infile.readline())\n",
    "    num2 = int(infile.readline())\n",
    "    num3 = int(infile.readline())\n",
    "    \n",
    "    infile.close()\n",
    "    \n",
    "    print('The numbers are:', num1, num2, num3)\n",
    "\n",
    "main()    "
   ]
  },
  {
   "cell_type": "markdown",
   "id": "4817ef34",
   "metadata": {},
   "source": [
    "### Average numbers"
   ]
  },
  {
   "cell_type": "code",
   "execution_count": null,
   "id": "6268116c",
   "metadata": {},
   "outputs": [],
   "source": [
    "#Assume a file containing a series of integers is named numbers.txt and exists on the\n",
    "#computer’s disk. Write a program that calculates the average \n",
    "#of all the numbers stored in the file.\n",
    "def main():\n",
    "    infile = open('numbers.txt', 'r')\n",
    "    \n",
    "    num1 = int(infile.readline())\n",
    "    num2 = int(infile.readline())\n",
    "    num3 = int(infile.readline())\n",
    "    \n",
    "    infile.close()\n",
    "    \n",
    "    total = num1 + num2 + num3/3\n",
    "print('Their total is:', total)    "
   ]
  },
  {
   "cell_type": "code",
   "execution_count": null,
   "id": "b3da59c7",
   "metadata": {},
   "outputs": [],
   "source": [
    "def main():\n",
    "    infile=open('numbers.txt','r')\n",
    "    num=infile.readline()\n",
    "while num != '':\n",
    "    total+=int(num)\n",
    "    counter+=1\n",
    "    num=infile.readline()\n",
    "    \n",
    "    infile.close\n",
    "    \n",
    "print('the average is', format(total/counter, '2f')) \n",
    "\n",
    "main()"
   ]
  },
  {
   "cell_type": "markdown",
   "id": "789e6a7a",
   "metadata": {},
   "source": [
    "### Exception Handling"
   ]
  },
  {
   "cell_type": "code",
   "execution_count": 23,
   "id": "3810eb4a",
   "metadata": {},
   "outputs": [
    {
     "name": "stdout",
     "output_type": "stream",
     "text": [
      "the average is 34.0\n",
      "the average is 417.0\n",
      "the average is 279.0\n"
     ]
    }
   ],
   "source": [
    "#Modify the program that you wrote for Exercise 6 so it handles the following exceptions:\n",
    "#It should handle any IOError exceptions that are raised when the file is opened and data\n",
    "#is read from it.\n",
    "#It should handle any ValueError exceptions that are raised when the items that are read\n",
    "#from the file are converted to a number.\n",
    "\n",
    "def main():\n",
    "    try:\n",
    "        infile=open('numbers.txt','r')\n",
    "    except Expection as errorgenerated:\n",
    "        print('file not found',errorgenerated)\n",
    "    else:\n",
    "        total=0\n",
    "        counter=0\n",
    "        line=infile.readline()\n",
    "    while line != '':\n",
    "        counter+=1\n",
    "        total+=int(line)\n",
    "        line=infile.readline()\n",
    "        \n",
    "        average=total/counter\n",
    "        print('the average is',average)\n",
    "        \n",
    "main()        \n",
    "        \n",
    "\n"
   ]
  },
  {
   "cell_type": "code",
   "execution_count": null,
   "id": "7f9fae01",
   "metadata": {},
   "outputs": [],
   "source": []
  }
 ],
 "metadata": {
  "kernelspec": {
   "display_name": "Python 3 (ipykernel)",
   "language": "python",
   "name": "python3"
  },
  "language_info": {
   "codemirror_mode": {
    "name": "ipython",
    "version": 3
   },
   "file_extension": ".py",
   "mimetype": "text/x-python",
   "name": "python",
   "nbconvert_exporter": "python",
   "pygments_lexer": "ipython3",
   "version": "3.11.4"
  }
 },
 "nbformat": 4,
 "nbformat_minor": 5
}
