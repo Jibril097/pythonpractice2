{
 "cells": [
  {
   "cell_type": "markdown",
   "id": "4d4b3a20",
   "metadata": {},
   "source": [
    "# Coding Set 6 (Ch.6)"
   ]
  },
  {
   "cell_type": "markdown",
   "id": "56866c03",
   "metadata": {},
   "source": [
    "## Alogorithm Workbench Exercises"
   ]
  },
  {
   "cell_type": "markdown",
   "id": "8204393b",
   "metadata": {},
   "source": [
    "### Exercise 1"
   ]
  },
  {
   "cell_type": "code",
   "execution_count": 8,
   "id": "29dee8ae",
   "metadata": {},
   "outputs": [],
   "source": [
    "#Write a program that opens an output file with the filename things.txt, writes the\n",
    "#name of an animal, a fruit, and a country to the file on separate lines, \n",
    "#then closes the file.\n",
    "def main ():\n",
    "    outfile=open('things.txt','w')\n",
    "    \n",
    "    outfile.write('lion\\n')\n",
    "    outfile.write('peach\\n')\n",
    "    outfile.write('japan\\n')\n",
    "    \n",
    "    outfile.close()\n",
    "    \n",
    "main()    "
   ]
  },
  {
   "cell_type": "code",
   "execution_count": 10,
   "id": "6cf22839",
   "metadata": {},
   "outputs": [],
   "source": [
    "def main():\n",
    "    outfile= open('things.txt','w') \n",
    "    outfile.write('Cat\\nApple\\nQatar') \n",
    "    outfile.close()\n",
    "main()    "
   ]
  },
  {
   "cell_type": "code",
   "execution_count": null,
   "id": "6541623d",
   "metadata": {},
   "outputs": [],
   "source": []
  }
 ],
 "metadata": {
  "kernelspec": {
   "display_name": "Python 3 (ipykernel)",
   "language": "python",
   "name": "python3"
  },
  "language_info": {
   "codemirror_mode": {
    "name": "ipython",
    "version": 3
   },
   "file_extension": ".py",
   "mimetype": "text/x-python",
   "name": "python",
   "nbconvert_exporter": "python",
   "pygments_lexer": "ipython3",
   "version": "3.11.4"
  }
 },
 "nbformat": 4,
 "nbformat_minor": 5
}
