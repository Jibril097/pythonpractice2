{
 "cells": [
  {
   "cell_type": "markdown",
   "id": "f6f55891",
   "metadata": {},
   "source": [
    "# Coding Set 5\n",
    "## Chapter 5 Questions\n"
   ]
  },
  {
   "cell_type": "markdown",
   "id": "1f4bb661",
   "metadata": {},
   "source": [
    "## Alogorithm Workbench Questions"
   ]
  },
  {
   "cell_type": "markdown",
   "id": "c36692f9",
   "metadata": {},
   "source": [
    "### Question 3"
   ]
  },
  {
   "cell_type": "code",
   "execution_count": null,
   "id": "bd59bc74",
   "metadata": {},
   "outputs": [],
   "source": [
    "#I believe a=3,b=2,c=1\n",
    "def my_function(a, b, c):\n",
    "my_function(3, 2, 1) \n",
    "my_function()"
   ]
  },
  {
   "cell_type": "markdown",
   "id": "12e42cc4",
   "metadata": {},
   "source": [
    "### Question 9"
   ]
  },
  {
   "cell_type": "code",
   "execution_count": 4,
   "id": "fcfad0aa",
   "metadata": {},
   "outputs": [
    {
     "name": "stdout",
     "output_type": "stream",
     "text": [
      "enter a number: 6\n",
      "60\n"
     ]
    }
   ],
   "source": [
    "#Write a function named times_ten that accepts a number as an argument.\n",
    "#When the function is called, it should return the value of its argument multiplied times 10.\n",
    "def times_ten(number):\n",
    "    result = number * 10\n",
    "\n",
    "    return result\n",
    "\n",
    "user_inp = int(input('enter a number: '))\n",
    "user_inp = times_ten(user_inp)\n",
    "print(user_inp)"
   ]
  },
  {
   "cell_type": "markdown",
   "id": "d5ec7d29",
   "metadata": {},
   "source": [
    "# Programming Exercises"
   ]
  },
  {
   "cell_type": "markdown",
   "id": "a713f7de",
   "metadata": {},
   "source": [
    "## 1. Kilometer Converter"
   ]
  },
  {
   "cell_type": "code",
   "execution_count": null,
   "id": "1bd127e0",
   "metadata": {},
   "outputs": [],
   "source": [
    "def conversion():"
   ]
  }
 ],
 "metadata": {
  "kernelspec": {
   "display_name": "Python 3 (ipykernel)",
   "language": "python",
   "name": "python3"
  },
  "language_info": {
   "codemirror_mode": {
    "name": "ipython",
    "version": 3
   },
   "file_extension": ".py",
   "mimetype": "text/x-python",
   "name": "python",
   "nbconvert_exporter": "python",
   "pygments_lexer": "ipython3",
   "version": "3.11.4"
  }
 },
 "nbformat": 4,
 "nbformat_minor": 5
}
