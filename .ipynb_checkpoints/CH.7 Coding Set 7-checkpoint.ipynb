{
 "cells": [
  {
   "cell_type": "markdown",
   "id": "b8c9e4c1",
   "metadata": {},
   "source": [
    "# CH.7 Coding Set 7"
   ]
  },
  {
   "cell_type": "markdown",
   "id": "1358bc80",
   "metadata": {},
   "source": [
    "## Alogorithm Workbench exercises"
   ]
  },
  {
   "cell_type": "markdown",
   "id": "7d927e97",
   "metadata": {},
   "source": [
    "### Exercise 7"
   ]
  },
  {
   "cell_type": "code",
   "execution_count": null,
   "id": "581a2cb1",
   "metadata": {},
   "outputs": [],
   "source": [
    "#What will list1 and list2 contain after the following statements are executed?\n",
    "#I believe it will add the two list to get a value of 9\n",
    "list1 = [1, 2] * 2\n",
    "list2 = [3]\n",
    "list2 += list1\n",
    "\n",
    "print(list1)"
   ]
  },
  {
   "cell_type": "markdown",
   "id": "af01ef19",
   "metadata": {},
   "source": [
    "### Exercise 1"
   ]
  },
  {
   "cell_type": "code",
   "execution_count": null,
   "id": "32b96aba",
   "metadata": {},
   "outputs": [],
   "source": [
    "#Write a statement that uses the list and range functions to create a list of the numbers\n",
    "#from 1 to 100.\n",
    "numbers=list(range(101))\n",
    "print(numbers)"
   ]
  },
  {
   "cell_type": "markdown",
   "id": "255b752f",
   "metadata": {},
   "source": [
    "# Programming Exercises"
   ]
  },
  {
   "cell_type": "markdown",
   "id": "96ff8791",
   "metadata": {},
   "source": [
    "### Lottery Number Generator"
   ]
  },
  {
   "cell_type": "code",
   "execution_count": null,
   "id": "b587b46e",
   "metadata": {},
   "outputs": [],
   "source": [
    "import random\n",
    "\n",
    "def main():\n",
    "    print(\"Choose seven numbers between 0 and 9: \")\n",
    "    \n",
    "    user_choices()\n",
    "    \n",
    "    random_number_list = random_generator()\n",
    "    \n",
    "    display_numbers(random_number_list)\n",
    "    \n",
    "def random_generator():\n",
    "     random_numbers = []\n",
    "        for number in range(1, 8):\n",
    "            number = random.randint(0, 9)\n",
    "            random_numbers.append(number)\n",
    "            \n",
    "            return random_numbers\n",
    "def display_numbers(random_numbers):\n",
    "     index = 1\n",
    "        for random_number in random_numbers:\n",
    "             print(f\"The number {index} is {random_number}\")\n",
    "                index += 1\n",
    "                \n",
    "def user_choices():\n",
    "    for i in range(1, 8)\n",
    "        number = int(input(f\"Insert choice number {i}: \"))\n",
    "        print(f\"Number {i}: {number}\")\n",
    "        \n",
    "        print(\"*\"*13)\n",
    "        \n",
    "main()"
   ]
  },
  {
   "cell_type": "markdown",
   "id": "8104bdd6",
   "metadata": {},
   "source": [
    "### Rainfall Statistics"
   ]
  },
  {
   "cell_type": "code",
   "execution_count": null,
   "id": "fe7a501f",
   "metadata": {},
   "outputs": [],
   "source": [
    "def main():\n",
    "     total = 0\n",
    "     monthly_list = []\n",
    "     for i in range(12):\n",
    "             rainfall = float(input('Enter the amonut of rainfall for this month: '))\n",
    "             total += rainfall\n",
    "             \n",
    "print(monthly_list)\n",
    "\n",
    "\n",
    "    \n",
    "    "
   ]
  }
 ],
 "metadata": {
  "kernelspec": {
   "display_name": "Python 3 (ipykernel)",
   "language": "python",
   "name": "python3"
  },
  "language_info": {
   "codemirror_mode": {
    "name": "ipython",
    "version": 3
   },
   "file_extension": ".py",
   "mimetype": "text/x-python",
   "name": "python",
   "nbconvert_exporter": "python",
   "pygments_lexer": "ipython3",
   "version": "3.11.4"
  }
 },
 "nbformat": 4,
 "nbformat_minor": 5
}
