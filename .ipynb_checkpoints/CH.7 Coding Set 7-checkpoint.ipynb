{
 "cells": [
  {
   "cell_type": "markdown",
   "id": "42831a13",
   "metadata": {},
   "source": [
    "# CH.7 Coding Set 7"
   ]
  },
  {
   "cell_type": "markdown",
   "id": "1271c025",
   "metadata": {},
   "source": [
    "## Alogorithm Workbench exercises"
   ]
  },
  {
   "cell_type": "markdown",
   "id": "84c575bc",
   "metadata": {},
   "source": [
    "### Exercise 7"
   ]
  },
  {
   "cell_type": "code",
   "execution_count": null,
   "id": "96112428",
   "metadata": {},
   "outputs": [],
   "source": [
    "#What will list1 and list2 contain after the following statements are executed?\n",
    "#I believe it will add the two list to get a value of 9\n",
    "list1 = [1, 2] * 2\n",
    "list2 = [3]\n",
    "list2 += list1\n",
    "\n",
    "print(list1)"
   ]
  },
  {
   "cell_type": "markdown",
   "id": "a7475e24",
   "metadata": {},
   "source": [
    "### Exercise 1"
   ]
  },
  {
   "cell_type": "code",
   "execution_count": null,
   "id": "d04e8e68",
   "metadata": {},
   "outputs": [],
   "source": [
    "#Write a statement that uses the list and range functions to create a list of the numbers\n",
    "#from 1 to 100.\n",
    "numbers=list(range(101))\n",
    "print(numbers)"
   ]
  },
  {
   "cell_type": "markdown",
   "id": "ed4cdd20",
   "metadata": {},
   "source": [
    "# Programming Exercises"
   ]
  },
  {
   "cell_type": "markdown",
   "id": "fd538404",
   "metadata": {},
   "source": [
    "### Lottery Number Generator"
   ]
  },
  {
   "cell_type": "code",
   "execution_count": null,
   "id": "0ede25b2",
   "metadata": {},
   "outputs": [],
   "source": [
    "import random\n",
    "\n",
    "def main():\n",
    "    print(\"Choose seven numbers between 0 and 9: \")\n",
    "    \n",
    "    user_choices()\n",
    "    \n",
    "    random_number_list = random_generator()\n",
    "    \n",
    "    display_numbers(random_number_list)\n",
    "    \n",
    "def random_generator():\n",
    "     random_numbers = []\n",
    "        for number in range(1, 8):\n",
    "            number = random.randint(0, 9)\n",
    "            random_numbers.append(number)\n",
    "            \n",
    "            return random_numbers\n",
    "def display_numbers(random_numbers):\n",
    "     index = 1\n",
    "        for random_number in random_numbers:\n",
    "             print(f\"The number {index} is {random_number}\")\n",
    "                index += 1\n",
    "                \n",
    "def user_choices():\n",
    "    for i in range(1, 8)\n",
    "        number = int(input(f\"Insert choice number {i}: \"))\n",
    "        print(f\"Number {i}: {number}\")\n",
    "        \n",
    "        print(\"*\"*13)\n",
    "        \n",
    "main()"
   ]
  },
  {
   "cell_type": "markdown",
   "id": "ae62bbb6",
   "metadata": {},
   "source": [
    "### Rainfall Statistics"
   ]
  },
  {
   "cell_type": "code",
   "execution_count": null,
   "id": "e3555198",
   "metadata": {},
   "outputs": [],
   "source": [
    "def main():\n",
    "     total = 0\n",
    "     monthly_list = []\n",
    "     for i in range(12):\n",
    "             rainfall = float(input('Enter the amonut of rainfall for this month: '))\n",
    "             total += rainfall\n",
    "             \n",
    "print(monthly_list)\n",
    "\n",
    "print('The total amount of rainfall in the year is', total)\n",
    "\n",
    "print('The average amount of rainfall for every month in the year is',\n",
    "          total / 12)\n",
    "\n",
    "print('The month with the highest amount of rainfall is', max(monthly_list))\n",
    "\n",
    "print('The month with the lowest amount of rainfall is', min(monthly_list))\n",
    "    \n",
    "    \n",
    "    \n",
    "main()\n",
    "\n",
    "    "
   ]
  },
  {
   "cell_type": "code",
   "execution_count": 18,
   "id": "728fab57",
   "metadata": {},
   "outputs": [
    {
     "name": "stdout",
     "output_type": "stream",
     "text": [
      "Enter the amonut of rainfall for this month: 60\n",
      "Enter the amonut of rainfall for this month: 150\n",
      "Enter the amonut of rainfall for this month: 3000\n",
      "Enter the amonut of rainfall for this month: 12\n",
      "Enter the amonut of rainfall for this month: 43\n",
      "Enter the amonut of rainfall for this month: 12\n",
      "Enter the amonut of rainfall for this month: 14\n",
      "Enter the amonut of rainfall for this month: 200\n",
      "Enter the amonut of rainfall for this month: 50\n",
      "Enter the amonut of rainfall for this month: 32\n",
      "Enter the amonut of rainfall for this month: 44\n",
      "Enter the amonut of rainfall for this month: 2\n",
      "[60.0, 150.0, 3000.0, 12.0, 43.0, 12.0, 14.0, 200.0, 50.0, 32.0, 44.0, 2.0]\n",
      "The total amount of rainfall in the year is 3619.0\n",
      "The average amount of rainfall for every month in the year is 301.5833333333333\n",
      "The month with the highest amount of rainfall is 3000.0\n",
      "The month with the lowest amount of rainfall is 2.0\n"
     ]
    }
   ],
   "source": [
    "def prompt():\n",
    "    total = 0\n",
    "    monthly_list = []\n",
    "    for i in range(12):\n",
    "        rainfall = float(input('Enter the amonut of rainfall for this month: '))\n",
    "        monthly_list.append(rainfall)\n",
    "        total += rainfall\n",
    "    print(monthly_list)\n",
    "    print('The total amount of rainfall in the year is', total)\n",
    "    print('The average amount of rainfall for every month in the year is',\n",
    "          total / 12)\n",
    "    print('The month with the highest amount of rainfall is', max(monthly_list))\n",
    "    print('The month with the lowest amount of rainfall is', min(monthly_list))\n",
    "prompt()"
   ]
  },
  {
   "cell_type": "code",
   "execution_count": null,
   "id": "35aa406b",
   "metadata": {},
   "outputs": [],
   "source": []
  }
 ],
 "metadata": {
  "kernelspec": {
   "display_name": "Python 3 (ipykernel)",
   "language": "python",
   "name": "python3"
  },
  "language_info": {
   "codemirror_mode": {
    "name": "ipython",
    "version": 3
   },
   "file_extension": ".py",
   "mimetype": "text/x-python",
   "name": "python",
   "nbconvert_exporter": "python",
   "pygments_lexer": "ipython3",
   "version": "3.11.4"
  }
 },
 "nbformat": 4,
 "nbformat_minor": 5
}
