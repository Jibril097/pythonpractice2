{
 "cells": [
  {
   "cell_type": "markdown",
   "id": "3f9fbbc6",
   "metadata": {},
   "source": [
    "# CH. 3 ( Coding set 3)"
   ]
  },
  {
   "cell_type": "markdown",
   "id": "cc54e74d",
   "metadata": {},
   "source": [
    "# Alogorithm Workbench Questions"
   ]
  },
  {
   "cell_type": "markdown",
   "id": "529a8a52",
   "metadata": {},
   "source": [
    "## Question 4 "
   ]
  },
  {
   "cell_type": "code",
   "execution_count": null,
   "id": "1c5d3183",
   "metadata": {},
   "outputs": [],
   "source": [
    "#In this If statement I will be correcting the alignment and indentation \n",
    "if score >= A_score:\n",
    "    print('Your grade is A.')\n",
    "else:\n",
    "     if score >= B_score:\n",
    "            print('Your grade is B.')\n",
    "        else:\n",
    "            if score >= C_score:\n",
    "                print('Your grade is C.')\n",
    "            else:\n",
    "                if score >= D_score:\n",
    "                    print('Your grade is D.')\n",
    "                else:\n",
    "                    print('Your grade is F.')\n",
    "#Here is the corecct alignment and indentation of this if-else statement "
   ]
  },
  {
   "cell_type": "code",
   "execution_count": 1,
   "id": "8f7e6a23",
   "metadata": {},
   "outputs": [
    {
     "name": "stdout",
     "output_type": "stream",
     "text": [
      "Enter amount1:100\n",
      "Enter amount2:250\n"
     ]
    }
   ],
   "source": [
    "amount1=int(input('Enter amount1:'))\n",
    "amount2=int(input('Enter amount2:'))"
   ]
  },
  {
   "cell_type": "code",
   "execution_count": 4,
   "id": "2bd8fdcc",
   "metadata": {},
   "outputs": [
    {
     "name": "stdout",
     "output_type": "stream",
     "text": [
      "Enter amount1:100\n",
      "Enter amount2:300\n",
      "amount2 is greater\n"
     ]
    }
   ],
   "source": [
    "#In this question we are determining which is greater amount1 or amount2\n",
    "#to start I will be assingning values to amount1 and amount2 \n",
    "#Interger numbers will be used\n",
    "#If amount1 is greater it will print amount1 is greater\n",
    "#if amount2 is greater it will print amount2 us greater\n",
    "#if they are not in range it will print amount not in range\n",
    "amount1=int(input('Enter amount1:'))\n",
    "amount2=int(input('Enter amount2:'))\n",
    "if amount1>amount2:\n",
    "            print('amount1 is greater')\n",
    "elif amount2>amount1:\n",
    "            print('amount2 is greater')\n",
    "else:\n",
    "    print('Amounts not in range')"
   ]
  },
  {
   "cell_type": "markdown",
   "id": "d8c17ba4",
   "metadata": {},
   "source": [
    "# Progamming Exercises 1 and 5"
   ]
  },
  {
   "cell_type": "markdown",
   "id": "56be65aa",
   "metadata": {},
   "source": [
    "## Exercise 5"
   ]
  },
  {
   "cell_type": "markdown",
   "id": "c6f54c8e",
   "metadata": {},
   "source": [
    "## Mass and Weight "
   ]
  },
  {
   "cell_type": "code",
   "execution_count": 5,
   "id": "ecd9f75c",
   "metadata": {},
   "outputs": [
    {
     "name": "stdout",
     "output_type": "stream",
     "text": [
      "enter objects mass100\n",
      "the object weighing980.0000000000001newtons too heavy\n"
     ]
    }
   ],
   "source": [
    "#Scientists measure an object’s mass in kilograms and its weight in newtons.\n",
    "#calculate its weight in newtons with the formula weight=mass*9.8\n",
    "#Write a program that asks the user to enter an object’s mass, then calculates its weight.\n",
    "#If the object weighs more than 500 newtons, display a message indicating that it is too heavy.\n",
    "#If the object weighs less than 100 newtons, display a message indicating that it is too light.\n",
    "mass= float(input(\"enter objects mass\"))\n",
    "weight= mass * 9.8\n",
    "if weight>500:\n",
    "    print(\"the object weighing\"+str(weight)+\"newtons too heavy\")\n",
    "elif weight<100:\n",
    "    print(\"the object weighing\"+str(weight)+\"newtons too light\")"
   ]
  },
  {
   "cell_type": "markdown",
   "id": "92d5459e",
   "metadata": {},
   "source": [
    "## Exercise 1"
   ]
  },
  {
   "cell_type": "markdown",
   "id": "82d84f90",
   "metadata": {},
   "source": [
    "## Number Analyser"
   ]
  },
  {
   "cell_type": "code",
   "execution_count": null,
   "id": "e61acd31",
   "metadata": {},
   "outputs": [],
   "source": [
    "#Write a program that asks the user to enter an interger\n",
    "#The program should display “Positive” if the number is greater than 0\n",
    "#“Negative” if the number is less than 0, and “Zero” if the number is equal to 0.\n",
    "#The program should then display “Even” if the number is even, and “Odd” if the number is odd.\n",
    "user_number= int(input('\\nenter an interger:'))\n",
    "if user_number > 0:\n",
    "    print(\"postive\")\n",
    "elif user_number < 0:\n",
    "    print(\"negative\")\n",
    "elif user_number== 0:\n",
    "    print(\"zero\")\n",
    "\n",
    "if user_number %2 == 0:\n",
    "    print(\"even\")\n",
    "else:\n",
    "    print(\"odd\")"
   ]
  },
  {
   "cell_type": "markdown",
   "id": "cc7cd0b7",
   "metadata": {},
   "source": [
    "## Exercise 16"
   ]
  },
  {
   "cell_type": "markdown",
   "id": "2c2c4a07",
   "metadata": {},
   "source": [
    "## Febuary days"
   ]
  },
  {
   "cell_type": "code",
   "execution_count": 7,
   "id": "1d53e337",
   "metadata": {},
   "outputs": [
    {
     "name": "stdout",
     "output_type": "stream",
     "text": [
      "Enter a year: 2033\n",
      "February 2033 has 28 days and is not a leap year.\n"
     ]
    }
   ],
   "source": [
    "#The month of February normally has 28 days. But if it is a leap year, February has 29 days.\n",
    "#Write a program that asks the user to enter a year.\n",
    "#The program should then display the number of days in February that year.\n",
    "#Determine whether the year is divisible by 100. If it is, then it is a leap year if and only\n",
    "#if it is also divisible by 400.\n",
    "#If the year is not divisible by 100, then it is a leap year if and only if it is divisible by 4.\n",
    "\n",
    "# The following determines whether a year is evenly divisible by\n",
    "# 100 and 400, or not 100 and 4.\n",
    " \n",
    "year = int(input('Enter a year: '))\n",
    "if (year % 400) == 0:\n",
    "    print('February', year, 'has 29 days and is a leap year.')\n",
    "elif (year % 100) != 0 and (year % 4) == 0:\n",
    "    print('February', year, 'has 29 days and is a leap year.')\n",
    "else:\n",
    "    print('February', year, 'has 28 days and is not a leap year.')\n"
   ]
  },
  {
   "cell_type": "markdown",
   "id": "ddca5945",
   "metadata": {},
   "source": [
    "## Exercise 18 "
   ]
  },
  {
   "cell_type": "markdown",
   "id": "8c5d0542",
   "metadata": {},
   "source": [
    "## Restaurant Selector"
   ]
  },
  {
   "cell_type": "code",
   "execution_count": 10,
   "id": "1710d115",
   "metadata": {},
   "outputs": [
    {
     "ename": "IndentationError",
     "evalue": "unexpected indent (2168335696.py, line 7)",
     "output_type": "error",
     "traceback": [
      "\u001b[1;36m  Cell \u001b[1;32mIn[10], line 7\u001b[1;36m\u001b[0m\n\u001b[1;33m    if gluten_free == \"yes\" or gluten_free == \"no\":\u001b[0m\n\u001b[1;37m    ^\u001b[0m\n\u001b[1;31mIndentationError\u001b[0m\u001b[1;31m:\u001b[0m unexpected indent\n"
     ]
    }
   ],
   "source": [
    "#You have a group of friends coming to visit for your high school reunion, and you want\n",
    "#to take them out to eat at a local restaurant. You aren’t sure if any of them have dietary\n",
    "#restrictions, but your restaurant choices are as follows:\n",
    "#Joe’s Gourmet Burgers—Vegetarian: No, Vegan: No, Gluten-Free: No\n",
    "#Main Street Pizza Company—Vegetarian: Yes, Vegan: No, Gluten-Free: Yes\n",
    "#Corner Café—Vegetarian: Yes, Vegan: Yes, Gluten-Free: Yes\n",
    "#Corner Café—Vegetarian: Yes, Vegan: Yes, Gluten-Free: Yes\n",
    "#Write a program that asks whether any members of your party are vegetarian, vegan, or\n",
    "#gluten-free\n",
    "#displays only the restaurants to which you may take the group\n",
    "The Chef’s Kitchen—Vegetarian: Yes, Vegan: Yes, Gluten-Free: Yes\n",
    "vegetarian=input(\"Is anyone in your party a vegetarian?\")\n",
    "\n",
    "if vegetarian == \"yes\" or vegetarian == \"no\":\n",
    "    vegan= input(\"Is anyone in your party vegan?\")\n",
    "    if vegan == \"yes\" or vegan == \"no\":\n",
    "        gluten_free= input(\"Is anyone in your party gluten_free?\")\n",
    "            if gluten_free == \"yes\" or gluten_free == \"no\":\n",
    "                message= \"\\nhere are your restaurant choices:\\n\"\n",
    "                    if vegetarian == \"yes\":\n",
    "                            if vegan == \"yes\":\n",
    "                                if gluten_free == \"yes\" or gluten_free == \"no\":\n",
    "                                        message += \"Corner Cafe\\n\"+ \\\n",
    "                                                \"The Chefs kitchen\\n\"\n",
    "    else:\n",
    "        if gluten_free == \"yes\":\n",
    "            message += \"Main Street Pizza Company\\n\"+ \\\n",
    "                        \"Corner Cafe\\n\" + \\\n",
    "                        \"The Chefs kitchen\\n\"\n",
    "else: vegetarian == \"no\" :\n",
    "        if vegan == \"yes\":\n",
    "            if gluten_free == \"yes\" or gluten_free == \"no\":\n",
    "                message += \"Main Street Pizza Company\\n\" + \\\n",
    "                            \"Corner Cafe\\n\"+ \\ \n",
    "                            \"The Chefs Kitchen\\n\"\n",
    "                \n",
    "        else: \n",
    "            message= \"enter either 'yes' or 'no'.\\nRerun the program and try again.\"\n",
    "            \n",
    "        \n",
    "                \n",
    "        \n",
    "            "
   ]
  },
  {
   "cell_type": "code",
   "execution_count": null,
   "id": "8b9373c0",
   "metadata": {},
   "outputs": [],
   "source": []
  }
 ],
 "metadata": {
  "kernelspec": {
   "display_name": "Python 3 (ipykernel)",
   "language": "python",
   "name": "python3"
  },
  "language_info": {
   "codemirror_mode": {
    "name": "ipython",
    "version": 3
   },
   "file_extension": ".py",
   "mimetype": "text/x-python",
   "name": "python",
   "nbconvert_exporter": "python",
   "pygments_lexer": "ipython3",
   "version": "3.11.4"
  }
 },
 "nbformat": 4,
 "nbformat_minor": 5
}
