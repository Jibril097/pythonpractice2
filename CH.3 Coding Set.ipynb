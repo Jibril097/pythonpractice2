{
 "cells": [
  {
   "cell_type": "markdown",
   "id": "ee118ae8",
   "metadata": {},
   "source": [
    "# CH. 3 ( Coding set 3)"
   ]
  },
  {
   "cell_type": "markdown",
   "id": "4e0d6ef2",
   "metadata": {},
   "source": [
    "# Alogorithm Workbench Questions"
   ]
  },
  {
   "cell_type": "markdown",
   "id": "3d549132",
   "metadata": {},
   "source": [
    "## Question 4 "
   ]
  },
  {
   "cell_type": "code",
   "execution_count": null,
   "id": "7d4ac7aa",
   "metadata": {},
   "outputs": [],
   "source": [
    "#In this If statement I will be correcting the alignment and indentation \n",
    "if score >= A_score:\n",
    "    print('Your grade is A.')\n",
    "else:\n",
    "     if score >= B_score:\n",
    "            print('Your grade is B.')\n",
    "        else:\n",
    "            if score >= C_score:\n",
    "                print('Your grade is C.')\n",
    "            else:\n",
    "                if score >= D_score:\n",
    "                    print('Your grade is D.')\n",
    "                else:\n",
    "                    print('Your grade is F.')\n",
    "#Here is the corecct alignment and indentation of this if-else statement "
   ]
  }
 ],
 "metadata": {
  "kernelspec": {
   "display_name": "Python 3 (ipykernel)",
   "language": "python",
   "name": "python3"
  },
  "language_info": {
   "codemirror_mode": {
    "name": "ipython",
    "version": 3
   },
   "file_extension": ".py",
   "mimetype": "text/x-python",
   "name": "python",
   "nbconvert_exporter": "python",
   "pygments_lexer": "ipython3",
   "version": "3.11.4"
  }
 },
 "nbformat": 4,
 "nbformat_minor": 5
}
