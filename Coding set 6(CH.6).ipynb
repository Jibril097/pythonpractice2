{
 "cells": [
  {
   "cell_type": "markdown",
   "id": "bb0c440a",
   "metadata": {},
   "source": [
    "# Coding Set 6 (Ch.6)"
   ]
  },
  {
   "cell_type": "markdown",
   "id": "a6ad885a",
   "metadata": {},
   "source": [
    "## Alogorithm Workbench Exercises"
   ]
  },
  {
   "cell_type": "markdown",
   "id": "aa39a421",
   "metadata": {},
   "source": [
    "### Exercise 1"
   ]
  },
  {
   "cell_type": "code",
   "execution_count": 8,
   "id": "cffcef18",
   "metadata": {},
   "outputs": [],
   "source": [
    "#Write a program that opens an output file with the filename things.txt, writes the\n",
    "#name of an animal, a fruit, and a country to the file on separate lines, \n",
    "#then closes the file.\n",
    "def main ():\n",
    "    outfile=open('things.txt','w')\n",
    "    \n",
    "    outfile.write('lion\\n')\n",
    "    outfile.write('peach\\n')\n",
    "    outfile.write('japan\\n')\n",
    "    \n",
    "    outfile.close()\n",
    "    \n",
    "main()    "
   ]
  },
  {
   "cell_type": "code",
   "execution_count": 13,
   "id": "09292d81",
   "metadata": {},
   "outputs": [],
   "source": [
    "def main():\n",
    "    my_file= open('things.txt','w') \n",
    "    my_file.write('Cat\\nApple\\nQatar') \n",
    "    my_file.close()\n",
    "main()    "
   ]
  },
  {
   "cell_type": "markdown",
   "id": "8cec55ab",
   "metadata": {},
   "source": [
    "### Exercise 2"
   ]
  },
  {
   "cell_type": "code",
   "execution_count": 14,
   "id": "0bd913ef",
   "metadata": {},
   "outputs": [
    {
     "name": "stdout",
     "output_type": "stream",
     "text": [
      "Cat\n",
      "Apple\n",
      "Qatar\n"
     ]
    }
   ],
   "source": [
    "def main():\n",
    "    infile = open('things.txt', 'r')\n",
    "    file_contents = infile.read()\n",
    "    infile.close()\n",
    "    print(file_contents)\n",
    "main()    "
   ]
  },
  {
   "cell_type": "markdown",
   "id": "c43a5865",
   "metadata": {},
   "source": [
    "## Programming Exercises "
   ]
  },
  {
   "cell_type": "markdown",
   "id": "22bec2ff",
   "metadata": {},
   "source": [
    "### 1. File display"
   ]
  },
  {
   "cell_type": "code",
   "execution_count": 16,
   "id": "db19b39c",
   "metadata": {},
   "outputs": [
    {
     "name": "stdout",
     "output_type": "stream",
     "text": [
      "enter a number:34\n",
      "enter another number:800\n",
      "enter another number:3\n"
     ]
    }
   ],
   "source": [
    "#Assume a file containing a series of integers is \n",
    "#named numbers.txt and exists on the com-\n",
    "#disk.write a program that displays \n",
    "#all the number in the file\n",
    "def main():\n",
    "    outfile=open('numbers.txt','w')\n",
    "    \n",
    "    num1=int(input('enter a number:'))\n",
    "    num2=int(input('enter another number:'))\n",
    "    num3=int(input('enter another number:'))\n",
    "    \n",
    "    outfile.write(str(num1)+'\\n')\n",
    "    outfile.write(str(num2)+'\\n')\n",
    "    outfile.write(str(num3)+'\\n')\n",
    "    \n",
    "    outfile.close\n",
    "    \n",
    "main()    \n",
    "    \n",
    "    "
   ]
  },
  {
   "cell_type": "code",
   "execution_count": 18,
   "id": "1062a4d8",
   "metadata": {},
   "outputs": [
    {
     "name": "stdout",
     "output_type": "stream",
     "text": [
      "The numbers are: 34 800 3\n"
     ]
    }
   ],
   "source": [
    "#this is the read file from the numbers.txt file\n",
    "def main():\n",
    "    infile = open('numbers.txt', 'r')\n",
    "    \n",
    "    num1 = int(infile.readline())\n",
    "    num2 = int(infile.readline())\n",
    "    num3 = int(infile.readline())\n",
    "    \n",
    "    infile.close()\n",
    "    \n",
    "    print('The numbers are:', num1, num2, num3)\n",
    "\n",
    "main()    "
   ]
  },
  {
   "cell_type": "markdown",
   "id": "621b9c60",
   "metadata": {},
   "source": [
    "### Average numbers"
   ]
  },
  {
   "cell_type": "code",
   "execution_count": null,
   "id": "ae3668f3",
   "metadata": {},
   "outputs": [],
   "source": [
    "#Assume a file containing a series of integers is named numbers.txt and exists on the\n",
    "#computer’s disk. Write a program that calculates the average \n",
    "#of all the numbers stored in the file.\n",
    "def main():\n",
    "    infile = open('numbers.txt', 'r')\n",
    "    \n",
    "    num1 = int(infile.readline())\n",
    "    num2 = int(infile.readline())\n",
    "    num3 = int(infile.readline())\n",
    "    \n",
    "    infile.close()\n",
    "    \n",
    "    total = num1 + num2 + num3/3\n",
    "print('Their total is:', total)    "
   ]
  },
  {
   "cell_type": "code",
   "execution_count": null,
   "id": "b51888d0",
   "metadata": {},
   "outputs": [],
   "source": []
  }
 ],
 "metadata": {
  "kernelspec": {
   "display_name": "Python 3 (ipykernel)",
   "language": "python",
   "name": "python3"
  },
  "language_info": {
   "codemirror_mode": {
    "name": "ipython",
    "version": 3
   },
   "file_extension": ".py",
   "mimetype": "text/x-python",
   "name": "python",
   "nbconvert_exporter": "python",
   "pygments_lexer": "ipython3",
   "version": "3.11.4"
  }
 },
 "nbformat": 4,
 "nbformat_minor": 5
}
